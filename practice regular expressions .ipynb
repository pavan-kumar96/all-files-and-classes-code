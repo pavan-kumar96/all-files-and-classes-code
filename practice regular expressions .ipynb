{
 "cells": [
  {
   "cell_type": "code",
   "execution_count": 17,
   "metadata": {},
   "outputs": [
    {
     "name": "stdout",
     "output_type": "stream",
     "text": [
      "['b']\n"
     ]
    }
   ],
   "source": [
    "import re\n",
    "a = \"bdjhjbccnsc\"\n",
    "f = re.compile(\"^[a-z]\")\n",
    "p = re.findall(f,a)\n",
    "print(p)"
   ]
  },
  {
   "cell_type": "code",
   "execution_count": 20,
   "metadata": {},
   "outputs": [
    {
     "name": "stdout",
     "output_type": "stream",
     "text": [
      "['1', '1', '1', '2', '2']\n"
     ]
    }
   ],
   "source": [
    "import re\n",
    "a = \"bdjhjbccnsc11122\"\n",
    "f = re.compile(\"[^a-z]\") # prints anything apart from range [a-z]\n",
    "p = re.findall(f,a)\n",
    "print(p)"
   ]
  },
  {
   "cell_type": "code",
   "execution_count": null,
   "metadata": {},
   "outputs": [],
   "source": [
    "[a-z0-9A-Z] => \\w\n",
    "[^a-z0-9A-Z] => \\W\n",
    "[0-9] => \\d\n",
    "[^0-9] => \\D\n",
    "whitespaces => \\s\n",
    "^space => \\S\n"
   ]
  },
  {
   "cell_type": "code",
   "execution_count": 47,
   "metadata": {},
   "outputs": [
    {
     "name": "stdout",
     "output_type": "stream",
     "text": [
      "20-12-2019\n"
     ]
    }
   ],
   "source": [
    "import re\n",
    "d = \"20-12-2019\"\n",
    "f = re.compile(\"(?P<day>^\\d{2})-(?P<month>\\d{2})-(?P<year>\\d{4})\")\n",
    "m = re.search(f,d)\n",
    "\n",
    "if m:\n",
    "    print(m.group())\n",
    "else:\n",
    "    print(\"not a valid Date\")\n",
    "    \n",
    "               "
   ]
  },
  {
   "cell_type": "code",
   "execution_count": 40,
   "metadata": {},
   "outputs": [
    {
     "name": "stdout",
     "output_type": "stream",
     "text": [
      "['10-8-2018']\n"
     ]
    }
   ],
   "source": [
    "import  re\n",
    "d = \"10-8-2018\"\n",
    "f = re.compile(\"^\\d{1,2}-\\d{1,2}-\\d{4}\") #{1,2} represents the len of the number i.e it may be 1 or 2. \n",
    "s = re.findall(f,d)\n",
    "print(s)"
   ]
  },
  {
   "cell_type": "code",
   "execution_count": 62,
   "metadata": {},
   "outputs": [
    {
     "name": "stdout",
     "output_type": "stream",
     "text": [
      "(None, '8431110575')\n"
     ]
    }
   ],
   "source": [
    "#phone number\n",
    "import re\n",
    "d =  \"8431110575\"\n",
    "f = re.compile(\"^(\\(\\+91\\))?([6-9]\\d{9}$)\")\n",
    "m = re.search(f,d)\n",
    "if m:\n",
    "    \n",
    "    print(m.groups())\n",
    "    "
   ]
  },
  {
   "cell_type": "code",
   "execution_count": 114,
   "metadata": {},
   "outputs": [
    {
     "name": "stdout",
     "output_type": "stream",
     "text": [
      "a1.2.b_c123@gmail.com.in\n"
     ]
    }
   ],
   "source": [
    "import re\n",
    "d = \"a1.2.b_c123@gmail.com.in\"\n",
    "f = re.compile(\"\\w+(\\.\\w+)*?(_\\w+)*?@\\w+(\\.\\w{2,3})+\")\n",
    "m = re.search(f,d)\n",
    "if m:\n",
    "    print(m.group())\n",
    "else:\n",
    "    print(\"dvcjhd\")\n"
   ]
  },
  {
   "cell_type": "code",
   "execution_count": 1,
   "metadata": {},
   "outputs": [
    {
     "name": "stdout",
     "output_type": "stream",
     "text": [
      "m-e-p_a.van-1997@gmail.com.in\n"
     ]
    }
   ],
   "source": [
    "import re\n",
    "e = \"m-e-p_a.van-1997@gmail.com.in\"\n",
    "f = re.compile(\"\\w+((\\.\\w+)*(\\_\\w+)*(-\\w+)*)*?@\\w+(\\.\\w{2,3})*$\")\n",
    "m = re.search(f,e)\n",
    "if m:\n",
    "    print(m.group())\n",
    "else:\n",
    "    print(\"dbcfsd\")\n",
    "    "
   ]
  },
  {
   "cell_type": "code",
   "execution_count": 19,
   "metadata": {},
   "outputs": [
    {
     "name": "stdout",
     "output_type": "stream",
     "text": [
      "('(+91)-', '8431110575')\n"
     ]
    }
   ],
   "source": [
    "import re \n",
    "p =\"(+91)-8431110575\"\n",
    "f = re.compile(\"(\\(\\+91\\)-)?([6-9]\\d{9}$)\")\n",
    "m = re.search(f,p)\n",
    "if m:\n",
    "    print(m.groups())\n",
    "else:\n",
    "    print(\"faafd\")\n",
    "\n",
    "# import re\n",
    "# d =  \"8431110575\"\n",
    "# f = re.compile(\"^(\\(\\+91\\))?([6-9]\\d{9}$)\")\n",
    "# m = re.search(f,d)\n",
    "# if m:\n",
    "    \n",
    "#     print(m.groups())\n",
    "\n"
   ]
  },
  {
   "cell_type": "code",
   "execution_count": 32,
   "metadata": {},
   "outputs": [
    {
     "name": "stdout",
     "output_type": "stream",
     "text": [
      "xyz@gmail.com\n"
     ]
    }
   ],
   "source": [
    "# email address checking\n",
    "e = \"xyz@gmail.com\"\n",
    "f = re.compile(\"^\\w+((\\.\\w+)*(_\\w+)*(-\\w+)*)?@\\w+(\\.\\w{2,3})+\")\n",
    "m = re.search(f,e)\n",
    "if m:\n",
    "    print(m.group())"
   ]
  },
  {
   "cell_type": "code",
   "execution_count": 38,
   "metadata": {},
   "outputs": [
    {
     "name": "stdout",
     "output_type": "stream",
     "text": [
      "403\n"
     ]
    }
   ],
   "source": [
    "import requests\n",
    "from bs4 import BeautifulSoup as bs\n",
    "url = \"https://www.pexels.com/collections/cute-animals-17ey6em/\"\n",
    "headers = {\"user-agent\":\"https://www.amazon.in/s?k=mobiles&ref=nb_sb_noss_2\"}\n",
    "response = requests.get(url, headers = headers)\n",
    "print(response.status_code)"
   ]
  }
 ],
 "metadata": {
  "kernelspec": {
   "display_name": "Python 3",
   "language": "python",
   "name": "python3"
  },
  "language_info": {
   "codemirror_mode": {
    "name": "ipython",
    "version": 3
   },
   "file_extension": ".py",
   "mimetype": "text/x-python",
   "name": "python",
   "nbconvert_exporter": "python",
   "pygments_lexer": "ipython3",
   "version": "3.7.4"
  }
 },
 "nbformat": 4,
 "nbformat_minor": 2
}
