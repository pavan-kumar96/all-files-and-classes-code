{
 "cells": [
  {
   "cell_type": "code",
   "execution_count": 2,
   "metadata": {},
   "outputs": [],
   "source": [
    "import networkx as nx\n",
    "import itertools"
   ]
  },
  {
   "cell_type": "code",
   "execution_count": 17,
   "metadata": {},
   "outputs": [
    {
     "name": "stdout",
     "output_type": "stream",
     "text": [
      "[0, 1, 2, 3, 4, 5] --------- [6, 7, 8, 9, 10, 11]\n"
     ]
    }
   ],
   "source": [
    "def community(G):\n",
    "    nodes = G.nodes()\n",
    "    n = G.number_of_nodes() #len of the nodes\n",
    "    \n",
    "    first_community = []\n",
    "    \n",
    "    for i in range(1, n//2 + 1): #Since another n/2 gives the same division results\n",
    "        comb = [list(x) for x in itertools.combinations(nodes, i)]\n",
    "        first_community.extend(comb)\n",
    "        \n",
    "    second_community = []\n",
    "    \n",
    "    for i in range(len(first_community)):\n",
    "        l = list(set(nodes)-set(first_community[i]))\n",
    "        second_community.append(l)\n",
    "    #which division is best?\n",
    "    \n",
    "    num_intra_edges1 = []\n",
    "    num_intra_edges2 = []\n",
    "    num_inter_edges= []\n",
    "    ratio = [] # ratio of no. of intra/ number oof interr community edges\n",
    "    \n",
    "    \n",
    "    for i in range(len(first_community)):\n",
    "        num_intra_edges1.append(G.subgraph(first_community[i]).number_of_edges())\n",
    "        \n",
    "    for i in range(len(second_community)):\n",
    "        num_intra_edges2.append(G.subgraph(second_community[i]).number_of_edges())\n",
    "        \n",
    "    e = G.number_of_edges()\n",
    "    for i in range(len(first_community)):\n",
    "        num_inter_edges.append(e- num_intra_edges1[i]- num_intra_edges2[i])\n",
    "    \n",
    "    #find the ratio\n",
    "    for i in range(len(first_community)):\n",
    "        ratio.append((num_intra_edges1[i]+num_intra_edges2[i])/num_inter_edges[i])\n",
    "    \n",
    "    max_value = max(ratio)\n",
    "    max_index = ratio.index(max_value)\n",
    "    \n",
    "    print(first_community[max_index],\"---------\",second_community[max_index])\n",
    "\n",
    "G = nx.barbell_graph(6,0)\n",
    "\n",
    "community(G)\n",
    "        \n",
    "     "
   ]
  },
  {
   "cell_type": "code",
   "execution_count": 19,
   "metadata": {},
   "outputs": [
    {
     "name": "stdout",
     "output_type": "stream",
     "text": [
      "[0, 1, 2, 3, 4] --------- [5, 6, 7, 8, 9]\n"
     ]
    }
   ],
   "source": [
    "import itertools\n",
    "def coommunity(G):\n",
    "    nodes = G.nodes() #Gives the list of nodes\n",
    "    n = len(nodes) #no. of nodes\n",
    "    \n",
    "    first_community = []\n",
    "    \n",
    "    for i in range(1, n//2+1): #why n/2 means another half results in the same value hence we take half of it.\n",
    "        comb = itertools.combinations(nodes, i)\n",
    "        first_community.extend(comb)\n",
    "        \n",
    "    second_community = []\n",
    "    \n",
    "    for i in range(len(first_community)):\n",
    "        l =list(set(nodes)- set(first_community[i]))\n",
    "        second_community.append(l)\n",
    "    \n",
    "    intra_edges1 = []\n",
    "    intra_edges2= []\n",
    "    inter_edges= []\n",
    "    ratio = [] # sum(edge1+edge2)/inter_edges\n",
    "    \n",
    "    for i in range(len(first_community)):\n",
    "        intra_edges1.append(G.subgraph(first_community).number_of_edges())\n",
    "        \n",
    "    for i in range(len(second_community)):\n",
    "        intra_edges2.append(G.subgraph(second_community).number_of_edges())\n",
    "        \n",
    "    e = G.number_of_edges()\n",
    "    \n",
    "    \n",
    "    for i in range(len(first_community)):\n",
    "        inter_edges.append(e- intra_edges1[i]- intra_edges2[i])\n",
    "    \n",
    "    for i in range(len(first_community)):\n",
    "        ratio.append((intra_edges1[i]+intra_edges2[i])/inter_edges[i])\n",
    "        \n",
    "    max_value = max(ratio)\n",
    "    max_index = ratio.index(max_value)\n",
    "    \n",
    "    print(first_community[max_index], '------', second_community[max_index])\n",
    "    \n",
    "G= nx.barbell_graph(5,0)\n",
    "community(G)\n",
    "    \n",
    "    \n",
    "    \n",
    "        \n",
    "        \n",
    "    "
   ]
  },
  {
   "cell_type": "code",
   "execution_count": 21,
   "metadata": {},
   "outputs": [],
   "source": [
    "data = nx.barbell_graph(5,0)"
   ]
  },
  {
   "cell_type": "code",
   "execution_count": 25,
   "metadata": {},
   "outputs": [],
   "source": [
    "import matplotlib.pyplot as plt"
   ]
  },
  {
   "cell_type": "code",
   "execution_count": 26,
   "metadata": {},
   "outputs": [
    {
     "name": "stderr",
     "output_type": "stream",
     "text": [
      "C:\\ProgramData\\Anaconda3\\lib\\site-packages\\networkx\\drawing\\nx_pylab.py:579: MatplotlibDeprecationWarning: \n",
      "The iterable function was deprecated in Matplotlib 3.1 and will be removed in 3.3. Use np.iterable instead.\n",
      "  if not cb.iterable(width):\n"
     ]
    },
    {
     "data": {
      "image/png": "[encoded data removed]",
      "text/plain": [
       "<Figure size 432x288 with 1 Axes>"
      ]
     },
     "metadata": {},
     "output_type": "display_data"
    }
   ],
   "source": [
    "nx.draw(data)"
   ]
  },
  {
   "cell_type": "code",
   "execution_count": 28,
   "metadata": {},
   "outputs": [],
   "source": [
    "import itertools"
   ]
  },
  {
   "cell_type": "code",
   "execution_count": 29,
   "metadata": {},
   "outputs": [
    {
     "data": {
      "text/plain": [
       "<itertools.combinations at 0x2a4fdc9638>"
      ]
     },
     "execution_count": 29,
     "metadata": {},
     "output_type": "execute_result"
    }
   ],
   "source": [
    "itertools.combinations([1,2,3,4,5], 3)"
   ]
  },
  {
   "cell_type": "code",
   "execution_count": 34,
   "metadata": {},
   "outputs": [
    {
     "data": {
      "text/plain": [
       "[1, 2, 3, 4, 1, 2, 3, 4, 5]"
      ]
     },
     "execution_count": 34,
     "metadata": {},
     "output_type": "execute_result"
    }
   ],
   "source": [
    "a = [1,2,3,4] \n",
    "b = [1,2,3,4,5]\n",
    "a.extend(b)\n",
    "a"
   ]
  },
  {
   "cell_type": "code",
   "execution_count": 31,
   "metadata": {},
   "outputs": [
    {
     "name": "stdout",
     "output_type": "stream",
     "text": [
      "(1, 2)\n",
      "(1, 3)\n",
      "(1, 4)\n",
      "(1, 5)\n",
      "(2, 3)\n",
      "(2, 4)\n",
      "(2, 5)\n",
      "(3, 4)\n",
      "(3, 5)\n",
      "(4, 5)\n"
     ]
    }
   ],
   "source": [
    "for i in itertools.combinations([1,2,3,4,5], 2):\n",
    "    print(i)b"
   ]
  },
  {
   "cell_type": "code",
   "execution_count": 4,
   "metadata": {},
   "outputs": [
    {
     "name": "stdout",
     "output_type": "stream",
     "text": [
      "(0, 1, 2, 3, 4) ----- [5, 6, 7, 8, 9]\n"
     ]
    }
   ],
   "source": [
    "import itertools\n",
    "## Diving the network into two communities\n",
    "def community(G):\n",
    "    nodes= G.nodes()\n",
    "    n  = G.number_of_nodes()\n",
    "    \n",
    "    first_community = []\n",
    "    \n",
    "    for i in range(1,n//2+1):\n",
    "        comb = itertools.combinations(nodes, i)\n",
    "        first_community.extend(comb)\n",
    "    \n",
    "    second_community = []\n",
    "    \n",
    "    for i in range(len(first_community)):\n",
    "        l =list(set(nodes)- set(first_community[i]))\n",
    "        second_community.append(l)\n",
    "        \n",
    "    inter_edges = []\n",
    "    intra_edges1 = []\n",
    "    intra_edges2 = []\n",
    "    ratio = []\n",
    "    \n",
    "    for i in range(len(first_community)):\n",
    "        intra_edges1.append((G.subgraph(first_community[i])).number_of_edges())\n",
    "        \n",
    "    for i in range(len(second_community)):\n",
    "        intra_edges2.append((G.subgraph(second_community[i])).number_of_edges())\n",
    "    \n",
    "    e = G.number_of_edges()\n",
    "    \n",
    "    for i in range(len(first_community)):\n",
    "        inter_edges.append(e-intra_edges1[i]-intra_edges2[i])\n",
    "    \n",
    "    for i in range(len(first_community)):\n",
    "        ratio.append((intra_edges1[i]+intra_edges2[i])/inter_edges[i])\n",
    "    max_value =max(ratio)\n",
    "    index = ratio.index(max_value)\n",
    "    print(first_community[index],'-----', second_community[index])\n",
    "    \n",
    "G = nx.barbell_graph(5,0)\n",
    "community(G)"
   ]
  },
  {
   "cell_type": "code",
   "execution_count": 14,
   "metadata": {},
   "outputs": [],
   "source": [
    "import operator"
   ]
  },
  {
   "cell_type": "code",
   "execution_count": 17,
   "metadata": {},
   "outputs": [
    {
     "data": {
      "text/plain": [
       "[((4, 5), 0.5555555555555556),\n",
       " ((0, 4), 0.13333333333333333),\n",
       " ((1, 4), 0.13333333333333333),\n",
       " ((2, 4), 0.13333333333333333),\n",
       " ((3, 4), 0.13333333333333333),\n",
       " ((5, 6), 0.13333333333333333),\n",
       " ((5, 7), 0.13333333333333333),\n",
       " ((5, 8), 0.13333333333333333),\n",
       " ((5, 9), 0.13333333333333333),\n",
       " ((0, 1), 0.022222222222222223),\n",
       " ((0, 2), 0.022222222222222223),\n",
       " ((0, 3), 0.022222222222222223),\n",
       " ((1, 2), 0.022222222222222223),\n",
       " ((1, 3), 0.022222222222222223),\n",
       " ((2, 3), 0.022222222222222223),\n",
       " ((6, 7), 0.022222222222222223),\n",
       " ((6, 8), 0.022222222222222223),\n",
       " ((6, 9), 0.022222222222222223),\n",
       " ((7, 8), 0.022222222222222223),\n",
       " ((7, 9), 0.022222222222222223),\n",
       " ((8, 9), 0.022222222222222223)]"
      ]
     },
     "execution_count": 17,
     "metadata": {},
     "output_type": "execute_result"
    }
   ],
   "source": [
    "g = nx.barbell_graph(5,0)\n",
    "dict1 = nx.edge_betweenness_centrality(g)\n",
    "sorted(dict1.items(), key = operator.itemgetter(1), reverse = True)"
   ]
  },
  {
   "cell_type": "code",
   "execution_count": 46,
   "metadata": {},
   "outputs": [
    {
     "name": "stdout",
     "output_type": "stream",
     "text": [
      "1\n",
      "2\n",
      "[0, 1, 2, 3, 4]\n",
      "[5, 6, 7, 8, 9]\n"
     ]
    }
   ],
   "source": [
    "### Giravn Algoo for doing the same as above finding the communities \n",
    "def edge_to_remove(G):\n",
    "    dic1 = nx.edge_betweenness_centrality(G)\n",
    "    \n",
    "    list_tuple = sorted(dic1.items(), key = operator.itemgetter(1), reverse = True)\n",
    "    return list_tuple[0][0]\n",
    "def girvan(G):\n",
    "    c = nx.connected_component_subgraphs(G)\n",
    "    l = len(c)\n",
    "    print(l)\n",
    "    while l ==1:\n",
    "        G.remove_edges(*edge_to_remove(G))\n",
    "        c =nx.connected_component_subgraphs(G)\n",
    "        l = len(c)\n",
    "        print(l)\n",
    "    return c.number_of_edges()\n",
    "G = nx.barbell_graph(5,0)\n",
    "c = girran(G)\n",
    "\n",
    "for i in c:\n",
    "    print(i.nodes())"
   ]
  },
  {
   "cell_type": "code",
   "execution_count": 47,
   "metadata": {},
   "outputs": [
    {
     "ename": "TypeError",
     "evalue": "object of type 'generator' has no len()",
     "output_type": "error",
     "traceback": [
      "\u001b[1;31m---------------------------------------------------------------------------\u001b[0m",
      "\u001b[1;31mTypeError\u001b[0m                                 Traceback (most recent call last)",
      "\u001b[1;32m<ipython-input-47-dc0023b2e794>\u001b[0m in \u001b[0;36m<module>\u001b[1;34m\u001b[0m\n\u001b[0;32m     15\u001b[0m     \u001b[1;32mreturn\u001b[0m \u001b[0mc\u001b[0m\u001b[1;33m.\u001b[0m\u001b[0mnumber_of_edges\u001b[0m\u001b[1;33m(\u001b[0m\u001b[1;33m)\u001b[0m\u001b[1;33m\u001b[0m\u001b[1;33m\u001b[0m\u001b[0m\n\u001b[0;32m     16\u001b[0m \u001b[0mG\u001b[0m \u001b[1;33m=\u001b[0m \u001b[0mnx\u001b[0m\u001b[1;33m.\u001b[0m\u001b[0mbarbell_graph\u001b[0m\u001b[1;33m(\u001b[0m\u001b[1;36m5\u001b[0m\u001b[1;33m,\u001b[0m\u001b[1;36m0\u001b[0m\u001b[1;33m)\u001b[0m\u001b[1;33m\u001b[0m\u001b[1;33m\u001b[0m\u001b[0m\n\u001b[1;32m---> 17\u001b[1;33m \u001b[0mc\u001b[0m \u001b[1;33m=\u001b[0m \u001b[0mgirvan\u001b[0m\u001b[1;33m(\u001b[0m\u001b[0mG\u001b[0m\u001b[1;33m)\u001b[0m\u001b[1;33m\u001b[0m\u001b[1;33m\u001b[0m\u001b[0m\n\u001b[0m\u001b[0;32m     18\u001b[0m \u001b[1;33m\u001b[0m\u001b[0m\n\u001b[0;32m     19\u001b[0m \u001b[1;32mfor\u001b[0m \u001b[0mi\u001b[0m \u001b[1;32min\u001b[0m \u001b[0mc\u001b[0m\u001b[1;33m:\u001b[0m\u001b[1;33m\u001b[0m\u001b[1;33m\u001b[0m\u001b[0m\n",
      "\u001b[1;32m<ipython-input-47-dc0023b2e794>\u001b[0m in \u001b[0;36mgirvan\u001b[1;34m(G)\u001b[0m\n\u001b[0;32m      6\u001b[0m \u001b[1;32mdef\u001b[0m \u001b[0mgirvan\u001b[0m\u001b[1;33m(\u001b[0m\u001b[0mG\u001b[0m\u001b[1;33m)\u001b[0m\u001b[1;33m:\u001b[0m\u001b[1;33m\u001b[0m\u001b[1;33m\u001b[0m\u001b[0m\n\u001b[0;32m      7\u001b[0m     \u001b[0mc\u001b[0m \u001b[1;33m=\u001b[0m \u001b[0mnx\u001b[0m\u001b[1;33m.\u001b[0m\u001b[0mconnected_component_subgraphs\u001b[0m\u001b[1;33m(\u001b[0m\u001b[0mG\u001b[0m\u001b[1;33m)\u001b[0m\u001b[1;33m\u001b[0m\u001b[1;33m\u001b[0m\u001b[0m\n\u001b[1;32m----> 8\u001b[1;33m     \u001b[0ml\u001b[0m \u001b[1;33m=\u001b[0m \u001b[0mlen\u001b[0m\u001b[1;33m(\u001b[0m\u001b[0mc\u001b[0m\u001b[1;33m)\u001b[0m\u001b[1;33m\u001b[0m\u001b[1;33m\u001b[0m\u001b[0m\n\u001b[0m\u001b[0;32m      9\u001b[0m     \u001b[0mprint\u001b[0m\u001b[1;33m(\u001b[0m\u001b[0ml\u001b[0m\u001b[1;33m)\u001b[0m\u001b[1;33m\u001b[0m\u001b[1;33m\u001b[0m\u001b[0m\n\u001b[0;32m     10\u001b[0m     \u001b[1;32mwhile\u001b[0m \u001b[0ml\u001b[0m \u001b[1;33m==\u001b[0m\u001b[1;36m1\u001b[0m\u001b[1;33m:\u001b[0m\u001b[1;33m\u001b[0m\u001b[1;33m\u001b[0m\u001b[0m\n",
      "\u001b[1;31mTypeError\u001b[0m: object of type 'generator' has no len()"
     ]
    }
   ],
   "source": [
    "def edge_to_remove(G):\n",
    "    dic1 = nx.edge_betweenness_centrality(G)\n",
    "    \n",
    "    list_tuple = sorted(dic1.items(), key = operator.itemgetter(1), reverse = True)\n",
    "    return list_tuple[0][0]\n",
    "def girvan(G):\n",
    "    c = nx.connected_component_subgraphs(G)\n",
    "    l = len(c)\n",
    "    print(l)\n",
    "    while l ==1:\n",
    "        G.remove_edges(*edge_to_remove(G))\n",
    "        c =nx.connected_component_subgraphs(G)\n",
    "        l = len(c)\n",
    "        print(l)\n",
    "    return c.number_of_edges()\n",
    "G = nx.barbell_graph(5,0)\n",
    "c = girvan(G)\n",
    "\n",
    "for i in c:\n",
    "    print(i.nodes())"
   ]
  },
  {
   "cell_type": "code",
   "execution_count": 50,
   "metadata": {},
   "outputs": [
    {
     "ename": "TypeError",
     "evalue": "object of type 'generator' has no len()",
     "output_type": "error",
     "traceback": [
      "\u001b[1;31m---------------------------------------------------------------------------\u001b[0m",
      "\u001b[1;31mTypeError\u001b[0m                                 Traceback (most recent call last)",
      "\u001b[1;32m<ipython-input-50-98ac134863b5>\u001b[0m in \u001b[0;36m<module>\u001b[1;34m\u001b[0m\n\u001b[0;32m     15\u001b[0m     \u001b[1;32mreturn\u001b[0m \u001b[0mc\u001b[0m\u001b[1;33m\u001b[0m\u001b[1;33m\u001b[0m\u001b[0m\n\u001b[0;32m     16\u001b[0m \u001b[0mG\u001b[0m \u001b[1;33m=\u001b[0m \u001b[0mnx\u001b[0m\u001b[1;33m.\u001b[0m\u001b[0mbarbell_graph\u001b[0m\u001b[1;33m(\u001b[0m\u001b[1;36m5\u001b[0m\u001b[1;33m,\u001b[0m\u001b[1;36m0\u001b[0m\u001b[1;33m)\u001b[0m\u001b[1;33m\u001b[0m\u001b[1;33m\u001b[0m\u001b[0m\n\u001b[1;32m---> 17\u001b[1;33m \u001b[0mc\u001b[0m \u001b[1;33m=\u001b[0m \u001b[0mgirvan\u001b[0m\u001b[1;33m(\u001b[0m\u001b[0mG\u001b[0m\u001b[1;33m)\u001b[0m\u001b[1;33m\u001b[0m\u001b[1;33m\u001b[0m\u001b[0m\n\u001b[0m\u001b[0;32m     18\u001b[0m \u001b[1;33m\u001b[0m\u001b[0m\n\u001b[0;32m     19\u001b[0m \u001b[1;31m# print(nx.draw(c))\u001b[0m\u001b[1;33m\u001b[0m\u001b[1;33m\u001b[0m\u001b[1;33m\u001b[0m\u001b[0m\n",
      "\u001b[1;32m<ipython-input-50-98ac134863b5>\u001b[0m in \u001b[0;36mgirvan\u001b[1;34m(G)\u001b[0m\n\u001b[0;32m      6\u001b[0m \u001b[1;32mdef\u001b[0m \u001b[0mgirvan\u001b[0m\u001b[1;33m(\u001b[0m\u001b[0mG\u001b[0m\u001b[1;33m)\u001b[0m\u001b[1;33m:\u001b[0m\u001b[1;33m\u001b[0m\u001b[1;33m\u001b[0m\u001b[0m\n\u001b[0;32m      7\u001b[0m     \u001b[0mc\u001b[0m \u001b[1;33m=\u001b[0m \u001b[0mnx\u001b[0m\u001b[1;33m.\u001b[0m\u001b[0mconnected_component_subgraphs\u001b[0m\u001b[1;33m(\u001b[0m\u001b[0mG\u001b[0m\u001b[1;33m)\u001b[0m\u001b[1;33m\u001b[0m\u001b[1;33m\u001b[0m\u001b[0m\n\u001b[1;32m----> 8\u001b[1;33m     \u001b[0ml\u001b[0m \u001b[1;33m=\u001b[0m \u001b[0mlen\u001b[0m\u001b[1;33m(\u001b[0m\u001b[0mc\u001b[0m\u001b[1;33m)\u001b[0m\u001b[1;33m\u001b[0m\u001b[1;33m\u001b[0m\u001b[0m\n\u001b[0m\u001b[0;32m      9\u001b[0m     \u001b[0mprint\u001b[0m\u001b[1;33m(\u001b[0m\u001b[0ml\u001b[0m\u001b[1;33m)\u001b[0m\u001b[1;33m\u001b[0m\u001b[1;33m\u001b[0m\u001b[0m\n\u001b[0;32m     10\u001b[0m     \u001b[1;32mwhile\u001b[0m \u001b[0ml\u001b[0m \u001b[1;33m==\u001b[0m\u001b[1;36m1\u001b[0m\u001b[1;33m:\u001b[0m\u001b[1;33m\u001b[0m\u001b[1;33m\u001b[0m\u001b[0m\n",
      "\u001b[1;31mTypeError\u001b[0m: object of type 'generator' has no len()"
     ]
    }
   ],
   "source": [
    "#Dividing the whole graph into two communities\n",
    "def edge_to_remove(G):\n",
    "    dic1  = nx.edge_betweenness_centrality(G)\n",
    "    tuple_list =sorted(dic1.items(), key = operator.itemgetter(1), reverse = True)\n",
    "    return tuple_list[0][0]\n",
    "def girvan(G):\n",
    "    c = nx.connected_component_subgraphs(G)\n",
    "    l = len(c)\n",
    "    print(l)\n",
    "    while l ==1:\n",
    "        G.remove_edges(*edge_to_remove(G))\n",
    "        c =nx.connected_component_subgraphs(G)\n",
    "        l = len(c)\n",
    "        print(l)\n",
    "    return c\n",
    "G = nx.barbell_graph(5,0)\n",
    "c = girvan(G)\n",
    "\n",
    "# print(nx.draw(c))\n",
    "\n",
    "for i in c:\n",
    "    print(i.nodes())\n"
   ]
  },
  {
   "cell_type": "code",
   "execution_count": 41,
   "metadata": {},
   "outputs": [
    {
     "data": {
      "text/plain": [
       "{(0, 1): 0.022222222222222223,\n",
       " (0, 2): 0.022222222222222223,\n",
       " (0, 3): 0.022222222222222223,\n",
       " (0, 4): 0.022222222222222223,\n",
       " (1, 2): 0.022222222222222223,\n",
       " (1, 3): 0.022222222222222223,\n",
       " (1, 4): 0.022222222222222223,\n",
       " (2, 3): 0.022222222222222223,\n",
       " (2, 4): 0.022222222222222223,\n",
       " (3, 4): 0.022222222222222223,\n",
       " (5, 6): 0.022222222222222223,\n",
       " (5, 7): 0.022222222222222223,\n",
       " (5, 8): 0.022222222222222223,\n",
       " (5, 9): 0.022222222222222223,\n",
       " (6, 7): 0.022222222222222223,\n",
       " (6, 8): 0.022222222222222223,\n",
       " (6, 9): 0.022222222222222223,\n",
       " (7, 8): 0.022222222222222223,\n",
       " (7, 9): 0.022222222222222223,\n",
       " (8, 9): 0.022222222222222223}"
      ]
     },
     "execution_count": 41,
     "metadata": {},
     "output_type": "execute_result"
    }
   ],
   "source": [
    "dic1  = nx.edge_betweenness_centrality(G)\n",
    "dic1"
   ]
  },
  {
   "cell_type": "code",
   "execution_count": null,
   "metadata": {},
   "outputs": [],
   "source": [
    "import networkx as nx\n",
    "import operator"
   ]
  },
  {
   "cell_type": "code",
   "execution_count": 28,
   "metadata": {},
   "outputs": [
    {
     "name": "stdout",
     "output_type": "stream",
     "text": [
      "<generator object connected_component_subgraphs at 0x0000000D0441A8C8>\n"
     ]
    },
    {
     "ename": "TypeError",
     "evalue": "'NoneType' object is not iterable",
     "output_type": "error",
     "traceback": [
      "\u001b[1;31m---------------------------------------------------------------------------\u001b[0m",
      "\u001b[1;31mTypeError\u001b[0m                                 Traceback (most recent call last)",
      "\u001b[1;32m<ipython-input-28-e39dc73171f7>\u001b[0m in \u001b[0;36m<module>\u001b[1;34m\u001b[0m\n\u001b[0;32m     15\u001b[0m \u001b[0mG\u001b[0m\u001b[1;33m=\u001b[0m \u001b[0mnx\u001b[0m\u001b[1;33m.\u001b[0m\u001b[0mbarbell_graph\u001b[0m\u001b[1;33m(\u001b[0m\u001b[1;36m5\u001b[0m\u001b[1;33m,\u001b[0m\u001b[1;36m0\u001b[0m\u001b[1;33m)\u001b[0m\u001b[1;33m\u001b[0m\u001b[1;33m\u001b[0m\u001b[0m\n\u001b[0;32m     16\u001b[0m \u001b[0mc\u001b[0m \u001b[1;33m=\u001b[0m \u001b[0mgirvan\u001b[0m\u001b[1;33m(\u001b[0m\u001b[0mG\u001b[0m\u001b[1;33m)\u001b[0m\u001b[1;33m\u001b[0m\u001b[1;33m\u001b[0m\u001b[0m\n\u001b[1;32m---> 17\u001b[1;33m \u001b[1;32mfor\u001b[0m \u001b[0mi\u001b[0m  \u001b[1;32min\u001b[0m \u001b[0mc\u001b[0m\u001b[1;33m:\u001b[0m\u001b[1;33m\u001b[0m\u001b[1;33m\u001b[0m\u001b[0m\n\u001b[0m\u001b[0;32m     18\u001b[0m     \u001b[0mprint\u001b[0m\u001b[1;33m(\u001b[0m\u001b[0mi\u001b[0m\u001b[1;33m.\u001b[0m\u001b[0mnodes\u001b[0m\u001b[1;33m(\u001b[0m\u001b[1;33m)\u001b[0m\u001b[1;33m)\u001b[0m\u001b[1;33m\u001b[0m\u001b[1;33m\u001b[0m\u001b[0m\n",
      "\u001b[1;31mTypeError\u001b[0m: 'NoneType' object is not iterable"
     ]
    }
   ],
   "source": [
    "def edge_to_remove(G):\n",
    "    dic1 = nx.edge_betweenness_centrality(G)\n",
    "    list_tuple = sorted(dic1.items(), key = lambda x: x[1])\n",
    "    return list_tuple[0][0]\n",
    "def girvan(G):\n",
    "    c= nx.connected_component_subgraphs(G)\n",
    "    l=len(list(c))\n",
    "    while l == 1:\n",
    "        G.remove_edge(*edge_to_remove(G))\n",
    "     \n",
    "        c= nx.connected_component_subgraphs(G)\n",
    "        l=len(list(c))\n",
    "    print(c)\n",
    "        \n",
    "G= nx.barbell_graph(5,0)\n",
    "c = girvan(G)\n",
    "for i  in c:\n",
    "    print(i.nodes())"
   ]
  },
  {
   "cell_type": "code",
   "execution_count": null,
   "metadata": {},
   "outputs": [],
   "source": []
  }
 ],
 "metadata": {
  "kernelspec": {
   "display_name": "Python 3",
   "language": "python",
   "name": "python3"
  },
  "language_info": {
   "codemirror_mode": {
    "name": "ipython",
    "version": 3
   },
   "file_extension": ".py",
   "mimetype": "text/x-python",
   "name": "python",
   "nbconvert_exporter": "python",
   "pygments_lexer": "ipython3",
   "version": "3.7.4"
  }
 },
 "nbformat": 4,
 "nbformat_minor": 2
}
