{
 "cells": [
  {
   "cell_type": "code",
   "execution_count": 2,
   "metadata": {},
   "outputs": [],
   "source": [
    "import pandas as pd\n",
    "import numpy as np\n",
    "import matplotlib.pyplot as plt\n",
    "import networkx as nx\n",
    "import seaborn as sns\n",
    "import missingno as mg\n",
    "\n",
    "%matplotlib inline"
   ]
  },
  {
   "cell_type": "markdown",
   "metadata": {},
   "source": [
    "### Analyze the dependencies in pypi metadata"
   ]
  },
  {
   "cell_type": "code",
   "execution_count": 3,
   "metadata": {},
   "outputs": [],
   "source": [
    "data = pd.read_csv('requirements.csv')"
   ]
  },
  {
   "cell_type": "code",
   "execution_count": 4,
   "metadata": {},
   "outputs": [
    {
     "data": {
      "text/html": [
       "<div>\n",
       "<style scoped>\n",
       "    .dataframe tbody tr th:only-of-type {\n",
       "        vertical-align: middle;\n",
       "    }\n",
       "\n",
       "    .dataframe tbody tr th {\n",
       "        vertical-align: top;\n",
       "    }\n",
       "\n",
       "    .dataframe thead th {\n",
       "        text-align: right;\n",
       "    }\n",
       "</style>\n",
       "<table border=\"1\" class=\"dataframe\">\n",
       "  <thead>\n",
       "    <tr style=\"text-align: right;\">\n",
       "      <th></th>\n",
       "      <th>package</th>\n",
       "      <th>requirement</th>\n",
       "      <th>package_name</th>\n",
       "      <th>package_version</th>\n",
       "    </tr>\n",
       "  </thead>\n",
       "  <tbody>\n",
       "    <tr>\n",
       "      <td>0</td>\n",
       "      <td>02exercicio-1.0.0</td>\n",
       "      <td>NaN</td>\n",
       "      <td>02exercicio</td>\n",
       "      <td>1.0.0</td>\n",
       "    </tr>\n",
       "    <tr>\n",
       "      <td>1</td>\n",
       "      <td>0x10c-asm-0.0.2</td>\n",
       "      <td>NaN</td>\n",
       "      <td>0x10c-asm</td>\n",
       "      <td>0.0.2</td>\n",
       "    </tr>\n",
       "    <tr>\n",
       "      <td>2</td>\n",
       "      <td>115wangpan-0.7.6</td>\n",
       "      <td>beautifulsoup4</td>\n",
       "      <td>115wangpan</td>\n",
       "      <td>0.7.6</td>\n",
       "    </tr>\n",
       "    <tr>\n",
       "      <td>3</td>\n",
       "      <td>115wangpan-0.7.6</td>\n",
       "      <td>homura</td>\n",
       "      <td>115wangpan</td>\n",
       "      <td>0.7.6</td>\n",
       "    </tr>\n",
       "  </tbody>\n",
       "</table>\n",
       "</div>"
      ],
      "text/plain": [
       "             package     requirement package_name package_version\n",
       "0  02exercicio-1.0.0             NaN  02exercicio           1.0.0\n",
       "1    0x10c-asm-0.0.2             NaN    0x10c-asm           0.0.2\n",
       "2   115wangpan-0.7.6  beautifulsoup4   115wangpan           0.7.6\n",
       "3   115wangpan-0.7.6          homura   115wangpan           0.7.6"
      ]
     },
     "execution_count": 4,
     "metadata": {},
     "output_type": "execute_result"
    }
   ],
   "source": [
    "data.head(4)"
   ]
  },
  {
   "cell_type": "code",
   "execution_count": 5,
   "metadata": {},
   "outputs": [
    {
     "data": {
      "text/plain": [
       "<matplotlib.axes._subplots.AxesSubplot at 0x8f13106308>"
      ]
     },
     "execution_count": 5,
     "metadata": {},
     "output_type": "execute_result"
    },
    {
     "data": {
      "image/png": "[encoded data removed]",
      "text/plain": [
       "<Figure size 432x288 with 1 Axes>"
      ]
     },
     "metadata": {
      "needs_background": "light"
     },
     "output_type": "display_data"
    }
   ],
   "source": [
    "data.isna().sum().plot(kind = 'bar')"
   ]
  },
  {
   "cell_type": "code",
   "execution_count": 6,
   "metadata": {},
   "outputs": [],
   "source": [
    "missing_data = pd.Series(data.isna().sum(), index\n",
    "                         = data.columns)"
   ]
  },
  {
   "cell_type": "code",
   "execution_count": 7,
   "metadata": {},
   "outputs": [
    {
     "data": {
      "text/plain": [
       "package                0\n",
       "requirement        36331\n",
       "package_name        1233\n",
       "package_version     1232\n",
       "dtype: int64"
      ]
     },
     "execution_count": 7,
     "metadata": {},
     "output_type": "execute_result"
    }
   ],
   "source": [
    "missing_data"
   ]
  },
  {
   "cell_type": "markdown",
   "metadata": {},
   "source": [
    "###  About the networkx package\n",
    "NetworkX is a Python language software package for the creation, manipulation, and study of the structure, dynamics, and functions of complex networks. Pygraphviz is a Python interface to the Graphviz graph layout and visualization package. Python language data structures for graphs, digraphs, and multigraphs."
   ]
  },
  {
   "cell_type": "markdown",
   "metadata": {},
   "source": [
    "### Creating the nodes and edges from the data"
   ]
  },
  {
   "cell_type": "code",
   "execution_count": 8,
   "metadata": {},
   "outputs": [],
   "source": [
    "# Nodes and edges\n",
    "nodes = data.package_name.unique()\n",
    "edges = data.loc[data.requirement.notnull(), ['package_name', 'requirement']].values"
   ]
  },
  {
   "cell_type": "markdown",
   "metadata": {},
   "source": [
    "### Graphs"
   ]
  },
  {
   "cell_type": "code",
   "execution_count": 78,
   "metadata": {},
   "outputs": [],
   "source": [
    "def make_graph(g, min_edges = 0):\n",
    "    dg = nx.Graph()\n",
    "    dg.add_nodes_from(g.package_name.unique())\n",
    "    edges = g.loc[g.requirement.notnull(), ['package_name', 'requirement']].values\n",
    "    # removing the bad nodes from the above graph objective\n",
    "    dg.remove_nodes_from(['.','nan',np.nan])\n",
    "    re_move = [n for n in dg if dg.degree(n)<= min_edges]\n",
    "    dg.remove_nodes_from(re_move)\n",
    "    return dg"
   ]
  },
  {
   "cell_type": "code",
   "execution_count": 79,
   "metadata": {},
   "outputs": [],
   "source": [
    "graph  =make_graph(data, min_edges= 0)"
   ]
  },
  {
   "cell_type": "code",
   "execution_count": 77,
   "metadata": {},
   "outputs": [
    {
     "name": "stdout",
     "output_type": "stream",
     "text": [
      "1\n"
     ]
    }
   ],
   "source": [
    "da = nx.barbell_graph(5,0)\n",
    "c = nx.connected_component_subgraphs(da)\n",
    "l = list(c)\n",
    "l = len(l)\n",
    "print(l)"
   ]
  },
  {
   "cell_type": "code",
   "execution_count": 84,
   "metadata": {},
   "outputs": [
    {
     "name": "stdout",
     "output_type": "stream",
     "text": [
      "no. of components  are  10\n"
     ]
    }
   ],
   "source": [
    "### Community graphs\n",
    "\n",
    "def edge_toremove(g):\n",
    "    dict1 =  nx.betweenness_centrality(g)\n",
    "    list_of_tuples = dict1.items()\n",
    "    list_of_tuples.sort(key = lambda x: x[1], reverse = True)\n",
    "    \n",
    "    return list_of_tuples[0][0]\n",
    "def girvan(g):\n",
    "    c =  nx.connected_component_subgraphs(g)\n",
    "    for subgraph in nx.connected_component_subgraphs(g):\n",
    "        l = len(subgraph)\n",
    "        print('no. of components  are ',l)\n",
    "        while l ==1:\n",
    "            g.remove_edge(*edge_toremove(g))\n",
    "            c = nx.connected_component_subgraphs(g)\n",
    "            for subgraph in nx.connected_component_subgraphs(g):\n",
    "              \n",
    "                l = len(subgraph)\n",
    "                print('no.  of connected components are ', l)\n",
    "    return \n",
    "g = nx.barbell_graph(5,0)\n",
    "G = girvan(g)\n",
    "\n",
    "for i in c:\n",
    "    print(i.nodes())\n",
    "    print('----------')"
   ]
  },
  {
   "cell_type": "code",
   "execution_count": 96,
   "metadata": {},
   "outputs": [],
   "source": [
    "dep_graph = nx.DiGraph(dg)"
   ]
  },
  {
   "cell_type": "code",
   "execution_count": null,
   "metadata": {},
   "outputs": [],
   "source": []
  },
  {
   "cell_type": "code",
   "execution_count": 100,
   "metadata": {},
   "outputs": [
    {
     "data": {
      "image/png": "[encoded data removed]",
      "text/plain": [
       "<Figure size 504x504 with 1 Axes>"
      ]
     },
     "metadata": {
      "needs_background": "light"
     },
     "output_type": "display_data"
    }
   ],
   "source": [
    "sorted_dict = sorted(dep_graph.in_degree(), key=operator.itemgetter(1))[::-1]\n",
    "\n",
    "N = 10\n",
    "x = np.arange(N)\n",
    "y = np.array([d[1] for d in sorted_dict[:N]])\n",
    "xlabels = [d[0] for d in sorted_dict[:N]][::-1]\n",
    "fig, ax = plt.subplots(1, 1, figsize=(7, 7))\n",
    "\n",
    "ax.barh(x[::-1], y, height=1.0)\n",
    "ax.set_yticks(x )\n",
    "_ = ax.set_yticklabels(xlabels)\n",
    "ax.set_xlabel('Number of Connections')\n",
    "ax.set_title('Graph Degree')\n",
    "fig.subplots_adjust(left=0.27, bottom=0.1, top=0.95)\n",
    "\n",
    "# fig.savefig('Figures/Connections.png')"
   ]
  },
  {
   "cell_type": "code",
   "execution_count": 101,
   "metadata": {},
   "outputs": [
    {
     "name": "stdout",
     "output_type": "stream",
     "text": [
      "['coverage', 'mock', 'nose', 'sphinx', 'numpy', 'pyyaml', 'six', 'django', 'distribute', 'requests']\n"
     ]
    }
   ],
   "source": [
    "labels = [d[0] for d in sorted_dict[:N]][::-1]\n",
    "print(labels)"
   ]
  },
  {
   "cell_type": "code",
   "execution_count": null,
   "metadata": {},
   "outputs": [],
   "source": []
  },
  {
   "cell_type": "code",
   "execution_count": 114,
   "metadata": {},
   "outputs": [],
   "source": [
    "graph.add_edges_from(edges)"
   ]
  },
  {
   "cell_type": "code",
   "execution_count": 115,
   "metadata": {},
   "outputs": [
    {
     "data": {
      "text/plain": [
       "72613"
      ]
     },
     "execution_count": 115,
     "metadata": {},
     "output_type": "execute_result"
    }
   ],
   "source": [
    "graph.number_of_edges()"
   ]
  },
  {
   "cell_type": "code",
   "execution_count": 117,
   "metadata": {},
   "outputs": [],
   "source": [
    "group1 = nx.bfs_tree(graph,\"requests\")"
   ]
  },
  {
   "cell_type": "code",
   "execution_count": null,
   "metadata": {},
   "outputs": [],
   "source": [
    "nx.draw_networkx(group1)"
   ]
  },
  {
   "cell_type": "code",
   "execution_count": null,
   "metadata": {},
   "outputs": [],
   "source": []
  }
 ],
 "metadata": {
  "kernelspec": {
   "display_name": "Python 3",
   "language": "python",
   "name": "python3"
  },
  "language_info": {
   "codemirror_mode": {
    "name": "ipython",
    "version": 3
   },
   "file_extension": ".py",
   "mimetype": "text/x-python",
   "name": "python",
   "nbconvert_exporter": "python",
   "pygments_lexer": "ipython3",
   "version": "3.7.4"
  }
 },
 "nbformat": 4,
 "nbformat_minor": 2
}
