{
 "cells": [
  {
   "cell_type": "code",
   "execution_count": 1,
   "metadata": {},
   "outputs": [],
   "source": [
    "import pandas as pd"
   ]
  },
  {
   "cell_type": "code",
   "execution_count": 3,
   "metadata": {},
   "outputs": [],
   "source": [
    "data = pd.read_csv('nba_elo.csv')"
   ]
  },
  {
   "cell_type": "code",
   "execution_count": 12,
   "metadata": {},
   "outputs": [
    {
     "data": {
      "text/html": [
       "<div>\n",
       "<style scoped>\n",
       "    .dataframe tbody tr th:only-of-type {\n",
       "        vertical-align: middle;\n",
       "    }\n",
       "\n",
       "    .dataframe tbody tr th {\n",
       "        vertical-align: top;\n",
       "    }\n",
       "\n",
       "    .dataframe thead th {\n",
       "        text-align: right;\n",
       "    }\n",
       "</style>\n",
       "<table border=\"1\" class=\"dataframe\">\n",
       "  <thead>\n",
       "    <tr style=\"text-align: right;\">\n",
       "      <th></th>\n",
       "      <th>date</th>\n",
       "      <th>season</th>\n",
       "      <th>neutral</th>\n",
       "      <th>playoff</th>\n",
       "      <th>team1</th>\n",
       "      <th>team2</th>\n",
       "      <th>elo1_pre</th>\n",
       "      <th>elo2_pre</th>\n",
       "      <th>elo_prob1</th>\n",
       "      <th>elo_prob2</th>\n",
       "      <th>...</th>\n",
       "      <th>carm-elo_prob1</th>\n",
       "      <th>carm-elo_prob2</th>\n",
       "      <th>carm-elo1_post</th>\n",
       "      <th>carm-elo2_post</th>\n",
       "      <th>raptor1_pre</th>\n",
       "      <th>raptor2_pre</th>\n",
       "      <th>raptor_prob1</th>\n",
       "      <th>raptor_prob2</th>\n",
       "      <th>score1</th>\n",
       "      <th>score2</th>\n",
       "    </tr>\n",
       "  </thead>\n",
       "  <tbody>\n",
       "    <tr>\n",
       "      <td>43238</td>\n",
       "      <td>2000-02-01</td>\n",
       "      <td>2000</td>\n",
       "      <td>0</td>\n",
       "      <td>NaN</td>\n",
       "      <td>DAL</td>\n",
       "      <td>PHI</td>\n",
       "      <td>1462.1624</td>\n",
       "      <td>1506.0796</td>\n",
       "      <td>0.580016</td>\n",
       "      <td>0.419984</td>\n",
       "      <td>...</td>\n",
       "      <td>NaN</td>\n",
       "      <td>NaN</td>\n",
       "      <td>NaN</td>\n",
       "      <td>NaN</td>\n",
       "      <td>NaN</td>\n",
       "      <td>NaN</td>\n",
       "      <td>NaN</td>\n",
       "      <td>NaN</td>\n",
       "      <td>100.0</td>\n",
       "      <td>101.0</td>\n",
       "    </tr>\n",
       "  </tbody>\n",
       "</table>\n",
       "<p>1 rows × 24 columns</p>\n",
       "</div>"
      ],
      "text/plain": [
       "             date  season  neutral playoff team1 team2   elo1_pre   elo2_pre  \\\n",
       "43238  2000-02-01    2000        0     NaN   DAL   PHI  1462.1624  1506.0796   \n",
       "\n",
       "       elo_prob1  elo_prob2  ...  carm-elo_prob1  carm-elo_prob2  \\\n",
       "43238   0.580016   0.419984  ...             NaN             NaN   \n",
       "\n",
       "       carm-elo1_post  carm-elo2_post  raptor1_pre  raptor2_pre  raptor_prob1  \\\n",
       "43238             NaN             NaN          NaN          NaN           NaN   \n",
       "\n",
       "       raptor_prob2  score1  score2  \n",
       "43238           NaN   100.0   101.0  \n",
       "\n",
       "[1 rows x 24 columns]"
      ]
     },
     "execution_count": 12,
     "metadata": {},
     "output_type": "execute_result"
    }
   ],
   "source": [
    "data.sample(1)"
   ]
  },
  {
   "cell_type": "code",
   "execution_count": null,
   "metadata": {},
   "outputs": [],
   "source": [
    "data['winner'] =  data['score1']> "
   ]
  },
  {
   "cell_type": "code",
   "execution_count": 23,
   "metadata": {},
   "outputs": [],
   "source": [
    "final_win = data[data.playoff== 'f']"
   ]
  },
  {
   "cell_type": "code",
   "execution_count": null,
   "metadata": {},
   "outputs": [],
   "source": [
    "final"
   ]
  },
  {
   "cell_type": "code",
   "execution_count": 19,
   "metadata": {},
   "outputs": [
    {
     "data": {
      "text/plain": [
       "<matplotlib.axes._subplots.AxesSubplot at 0xc77580d3c8>"
      ]
     },
     "execution_count": 19,
     "metadata": {},
     "output_type": "execute_result"
    }
   ],
   "source": [
    "data.groupby('playoff').score1.sum().plot()"
   ]
  },
  {
   "cell_type": "code",
   "execution_count": 15,
   "metadata": {},
   "outputs": [
    {
     "data": {
      "text/plain": [
       "playoff\n",
       "c    GSWCLEGSWCLETOROKCTOROKCCLEGSWTOROKCGSWGSWGSWB...\n",
       "f    GSWGSWCLECLEGSWCLEGSWGSWGSWCLECLEGSWGSWGSWCLEC...\n",
       "q    TORGSWATLOKCCLEMIASASLACTOROKCGSWATLSASMIACLEL...\n",
       "s    SASGSWCLESASTORGSWCLETORATLOKCMIAPORATLOKCMIAP...\n",
       "t    CLRPHWWSCWSCNYKSTBSTBCHSNYKWSCCHSPHWCHSNYKPHWP...\n",
       "Name: team1, dtype: object"
      ]
     },
     "execution_count": 15,
     "metadata": {},
     "output_type": "execute_result"
    }
   ],
   "source": [
    "data.groupby('playoff').team1.sum()"
   ]
  },
  {
   "cell_type": "code",
   "execution_count": 6,
   "metadata": {},
   "outputs": [
    {
     "data": {
      "text/plain": [
       "102"
      ]
     },
     "execution_count": 6,
     "metadata": {},
     "output_type": "execute_result"
    }
   ],
   "source": [
    "len(data.team1.unique())"
   ]
  },
  {
   "cell_type": "code",
   "execution_count": 8,
   "metadata": {},
   "outputs": [
    {
     "data": {
      "text/plain": [
       "date                  0\n",
       "season                0\n",
       "neutral               0\n",
       "playoff           65103\n",
       "team1                 0\n",
       "team2                 0\n",
       "elo1_pre              0\n",
       "elo2_pre              0\n",
       "elo_prob1             0\n",
       "elo_prob2             0\n",
       "elo1_post            88\n",
       "elo2_post            88\n",
       "carm-elo1_pre     64216\n",
       "carm-elo2_pre     64216\n",
       "carm-elo_prob1    64216\n",
       "carm-elo_prob2    64216\n",
       "carm-elo1_post    64216\n",
       "carm-elo2_post    64216\n",
       "raptor1_pre       67094\n",
       "raptor2_pre       67094\n",
       "raptor_prob1      67094\n",
       "raptor_prob2      67094\n",
       "score1               88\n",
       "score2               88\n",
       "dtype: int64"
      ]
     },
     "execution_count": 8,
     "metadata": {},
     "output_type": "execute_result"
    }
   ],
   "source": [
    "data.isna().sum()"
   ]
  },
  {
   "cell_type": "code",
   "execution_count": null,
   "metadata": {},
   "outputs": [],
   "source": [
    "()"
   ]
  }
 ],
 "metadata": {
  "kernelspec": {
   "display_name": "Python 3",
   "language": "python",
   "name": "python3"
  },
  "language_info": {
   "codemirror_mode": {
    "name": "ipython",
    "version": 3
   },
   "file_extension": ".py",
   "mimetype": "text/x-python",
   "name": "python",
   "nbconvert_exporter": "python",
   "pygments_lexer": "ipython3",
   "version": "3.7.4"
  }
 },
 "nbformat": 4,
 "nbformat_minor": 2
}
