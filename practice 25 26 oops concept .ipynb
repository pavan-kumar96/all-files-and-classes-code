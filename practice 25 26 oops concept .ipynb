{
 "cells": [
  {
   "cell_type": "code",
   "execution_count": 8,
   "metadata": {},
   "outputs": [
    {
     "name": "stdout",
     "output_type": "stream",
     "text": [
      "abc abc@123 abc@gmail.com\n",
      "('abc', 'abc@123', 'abc@gmail.com')\n"
     ]
    }
   ],
   "source": [
    "# print all the inputs given\n",
    "class User:\n",
    "    \n",
    "    def __init__(self,username,password,email):\n",
    "        self.username = username\n",
    "        self.password = password\n",
    "        self.email = email\n",
    "    \n",
    "user1 = User(\"abc\",\"abc@123\",\"abc@gmail.com\")\n",
    "# for self meanning user1 = (Useri.e self, username, password, email)\n",
    "print(user1.username,user1.password,user1.email)\n",
    "print(user1.add())"
   ]
  },
  {
   "cell_type": "code",
   "execution_count": null,
   "metadata": {},
   "outputs": [],
   "source": []
  },
  {
   "cell_type": "code",
   "execution_count": 11,
   "metadata": {},
   "outputs": [
    {
     "name": "stdout",
     "output_type": "stream",
     "text": [
      "88477383\n"
     ]
    }
   ],
   "source": [
    "# Adding a  contact number..\n",
    "class User:\n",
    "    \n",
    "    def __init__(self,username,password,email):\n",
    "        self.username = username\n",
    "        self.password = password\n",
    "        self.email = email\n",
    "    def contact_number(self, contact):\n",
    "        self.contact = contact\n",
    "    \n",
    "    \n",
    "user1 = User(\"abc\",\"abc@123\",\"abc@gmail.com\")\n",
    "user1.contact_number(\"88477383\")\n",
    "# # for self meanning user1 = (Useri.e self, username, password, email)\n",
    "# print(user1.username,user1.password,user1.email)\n",
    "# print(user1.add()\n",
    "print(user1.contact)"
   ]
  },
  {
   "cell_type": "code",
   "execution_count": 13,
   "metadata": {},
   "outputs": [
    {
     "name": "stdout",
     "output_type": "stream",
     "text": [
      "88477383\n",
      "('abc', 'abc@123', 'abc@gmail.com', '88477383')\n"
     ]
    }
   ],
   "source": [
    "# Adding a  view profile..\n",
    "# Adding a  contact number..\n",
    "class User:\n",
    "    \n",
    "    def __init__(self,username,password,email):\n",
    "        self.username = username\n",
    "        self.password = password\n",
    "        self.email = email\n",
    "    def contact_number(self, contact):\n",
    "        self.contact = contact\n",
    "    def view_profile(self):\n",
    "        return self.username, self.password, self.email,self.contact\n",
    "    \n",
    "    \n",
    "user1 = User(\"abc\",\"abc@123\",\"abc@gmail.com\")\n",
    "user1.contact_number(\"88477383\")\n",
    "# # for self meanning user1 = (Useri.e self, username, password, email)\n",
    "# print(user1.username,user1.password,user1.email)\n",
    "# print(user1.add()\n",
    "print(user1.contact)\n",
    "print(user1.view_profile())\n"
   ]
  },
  {
   "cell_type": "code",
   "execution_count": 19,
   "metadata": {},
   "outputs": [
    {
     "name": "stdout",
     "output_type": "stream",
     "text": [
      "88477383\n",
      "('abc', 'abc@123', 'abc@gmail.com', '88477383')\n",
      "pavan@123\n",
      "('abc', 'pavan@123', 'abc@gmail.com', '88477383')\n"
     ]
    }
   ],
   "source": [
    "# Forget password.\n",
    "class User:\n",
    "    \n",
    "    def __init__(self,username,password,email):\n",
    "        self.username = username\n",
    "        self.password = password\n",
    "        self.email = email\n",
    "    def contact_number(self, contact):\n",
    "        self.contact = contact\n",
    "    def view_profile(self):\n",
    "        return self.username, self.password, self.email,self.contact\n",
    "    def forgot_password(self,new_password):\n",
    "        self.password = new_password\n",
    "        return new_password\n",
    "    \n",
    "    \n",
    "user1 = User(\"abc\",\"abc@123\",\"abc@gmail.com\")\n",
    "user1.contact_number(\"88477383\")\n",
    "\n",
    "# # for self meanning user1 = (Useri.e self, username, password, email)\n",
    "# print(user1.username,user1.password,user1.email)\n",
    "# print(user1.add()\n",
    "print(user1.contact)\n",
    "print(user1.view_profile())\n",
    "print(user1.forgot_password(\"pavan@123\"))\n",
    "print(user1.view_profile())\n"
   ]
  },
  {
   "cell_type": "code",
   "execution_count": 24,
   "metadata": {},
   "outputs": [
    {
     "name": "stdout",
     "output_type": "stream",
     "text": [
      "88477383\n",
      "('abc', 'abc@123', 'abc@gmail.com', '88477383')\n",
      "pavan@123\n",
      "('abc', 'pavan@123', 'abc@gmail.com', '88477383')\n",
      "True\n"
     ]
    }
   ],
   "source": [
    "# Forget password.\n",
    "class User:\n",
    "    \n",
    "    def __init__(self,username,password,email):\n",
    "        self.username = username\n",
    "        self.password = password\n",
    "        self.email = email\n",
    "    def contact_number(self, contact):\n",
    "        self.contact = contact\n",
    "    def view_profile(self):\n",
    "        return self.username, self.password, self.email,self.contact\n",
    "    def forgot_password(self,new_password):\n",
    "        self.password = new_password\n",
    "        return new_password\n",
    "    def login(self,username,password):\n",
    "        if username == self.username and password == self.password:\n",
    "            return True\n",
    "        else:\n",
    "            return False\n",
    "        \n",
    "    \n",
    "    \n",
    "user1 = User(\"abc\",\"abc@123\",\"abc@gmail.com\")\n",
    "user1.contact_number(\"88477383\")\n",
    "\n",
    "# # for self meanning user1 = (Useri.e self, username, password, email)\n",
    "# print(user1.username,user1.password,user1.email)\n",
    "# print(user1.add()\n",
    "print(user1.contact)\n",
    "print(user1.view_profile())\n",
    "print(user1.forgot_password(\"pavan@123\"))\n",
    "print(user1.view_profile())\n",
    "print(user1.login(\"abc\",\"pavan@123\"))\n"
   ]
  },
  {
   "cell_type": "code",
   "execution_count": null,
   "metadata": {},
   "outputs": [],
   "source": [
    "username\n",
    "password\n",
    "email\n",
    "contact_number\n",
    "\n",
    "login\n",
    "logout\n",
    "register\n",
    "view_profile\n",
    "upadte_profile\n",
    "forgot_password\n"
   ]
  },
  {
   "cell_type": "code",
   "execution_count": 11,
   "metadata": {},
   "outputs": [
    {
     "name": "stdout",
     "output_type": "stream",
     "text": [
      "('abc', 'abc@gmail.com')\n",
      "('abcdd', 'abc@gmail.com')\n",
      "('abdc', 'abc@gmail.com')\n",
      "('dbc', 'abc@gmail.com')\n"
     ]
    }
   ],
   "source": [
    "# create a oops and define the input values of one user\n",
    "class user:\n",
    "    def __init__(self,username,password,email):\n",
    "        self.username = username\n",
    "        self.password = password\n",
    "        self.email = email\n",
    "    def login(self,username,password):\n",
    "        if self.username == username and self.password == password:\n",
    "            return True\n",
    "        else:\n",
    "            return False\n",
    "    def add_contact(self,contact):\n",
    "        self.contact = contact\n",
    "        return contact\n",
    "        \n",
    "    def view_profile(self):\n",
    "        return (self.username,self.email)\n",
    "        \n",
    "        \n",
    "    \n",
    "user1 = user(\"abc\",\"abc@123\",\"abc@gmail.com\",)\n",
    "user2 = user(\"abcdd\",\"addbc@123\",\"abc@gmail.com\")\n",
    "user3 = user(\"abdc\",\"abdc@123\",\"abc@gmail.com\")\n",
    "user4 = user(\"dbc\",\"abdc@123\",\"abc@gmail.com\")\n",
    "\n",
    "users = [user1,user2,user3,user4]\n",
    "\n",
    "for user in users:\n",
    "    print(user.view_profile())\n",
    "\n",
    "# print(user1.username,user1.password,user1.email)\n",
    "# print(user1.login(\"abc\",\"abc@13\"))\n",
    "# print(user1.add_contact(\"8833774\"))\n",
    "# print(user1.view_profile())"
   ]
  },
  {
   "cell_type": "code",
   "execution_count": 4,
   "metadata": {},
   "outputs": [
    {
     "name": "stdout",
     "output_type": "stream",
     "text": [
      "[('pavan', 10, 400), ('arjun', 11, 50), ('arya', 12, 453), ('param', 14, 455)]\n",
      "[None, (10.0, 'arjun'), None, None]\n",
      "91.0 param\n",
      "[('pass', 'pavan'), ('Fail', 'arjun'), ('pass', 'arya'), ('pass', 'param')]\n"
     ]
    }
   ],
   "source": [
    "# Problem 1:\n",
    "# Student:\n",
    "#     - all students of class 10th\n",
    "#     - for every student : roll no, name, marks of 5 subjects(evrey subject 100)\n",
    "#     - Calculate the result :\n",
    "#         need to stor student pass or fail in exam   \n",
    "#     - topper of the calss\n",
    "#     - Details of all the failed  students\n",
    "class sslc:\n",
    "    def __init__(self,name,rollno,marks):\n",
    "        self.name= name\n",
    "        self.rollno= rollno\n",
    "        self.marks = marks\n",
    "        \n",
    "    #list of class details    \n",
    "    def student_details(self):        \n",
    "        return self.name,self.rollno,self.marks\n",
    "   \n",
    "    #list of failed students\n",
    "    def failed_students(self):\n",
    "        percent = ((self.marks/500)*100)\n",
    "        if percent < 40:\n",
    "            return percent,self.name\n",
    "    \n",
    "    #toper of the class\n",
    "    def topper(self):\n",
    "        percent = ((self.marks/500)*100)\n",
    "        return percent\n",
    "    \n",
    "    #list of pass and failed students\n",
    "    def passorfail(self):\n",
    "        percent = ((self.marks/500)*100)\n",
    "        if percent < 40:\n",
    "            return (\"Fail\"),self.name\n",
    "        else:\n",
    "            return(\"pass\"),self.name\n",
    "     \n",
    "    \n",
    "student1 = sslc(\"pavan\",10,400)\n",
    "student2 =sslc(\"arjun\",11,50)\n",
    "student3 = sslc(\"arya\",12,453)\n",
    "student4 = sslc(\"param\",14,455)\n",
    "# print(student1.topper())\n",
    "students = [student1,student2,student3,student4]\n",
    "class_details = []\n",
    "top_score = 0\n",
    "failed_students_list = []\n",
    "passorfail_list = []\n",
    "\n",
    "# class_details = [student.student_details() for student in students]\n",
    "for student in students:\n",
    "    class_details.append(student.student_details()) \n",
    "print(class_details)\n",
    "\n",
    "\n",
    "for student in students:\n",
    "    failed_students_list.append(student.failed_students())\n",
    "print(failed_students_list)\n",
    "\n",
    "\n",
    "for student in students:\n",
    "    if student.topper() > top_score:\n",
    "        top_score = student.topper()\n",
    "        name = student.name\n",
    "print(top_score,name)\n",
    "\n",
    "for student in students:\n",
    "    passorfail_list.append(student.passorfail())\n",
    "print(passorfail_list)\n",
    "    \n",
    "\n",
    "\n",
    "    \n",
    "    \n",
    "    \n",
    "    \n",
    "    \n",
    "    \n",
    "    \n",
    "#     print(student.student_details())\n",
    "#     print(student.toper())"
   ]
  },
  {
   "cell_type": "code",
   "execution_count": 41,
   "metadata": {},
   "outputs": [
    {
     "name": "stdout",
     "output_type": "stream",
     "text": [
      "[('pavan', 10, 400), ('arjun', 11, 50), ('arya', 12, 453), ('param', 14, 455)]\n",
      "[None, (10.0, 'arjun'), None, None]\n",
      "[80.0, 10.0, 90.60000000000001, 91.0] param\n"
     ]
    }
   ],
   "source": [
    "# Problem 1:\n",
    "# Student:\n",
    "#     - all students of class 10th\n",
    "#     - for every student : roll no, name, marks of 5 subjects(evrey subject 100)\n",
    "#     - Calculate the result :\n",
    "#         need to stor student pass or fail in exam   \n",
    "#     - topper of the calss\n",
    "#     - Details of all the failed  students\n",
    "class sslc:\n",
    "    def __init__(self,name,rollno,marks):\n",
    "        self.name= name\n",
    "        self.rollno= rollno\n",
    "        self.marks = marks\n",
    "        \n",
    "    #list of class details    \n",
    "    def student_details(self):        \n",
    "        return self.name,self.rollno,self.marks\n",
    "   \n",
    "    #list of failed students\n",
    "    def failed_students(self):\n",
    "        percent = ((self.marks/500)*100)\n",
    "        if percent < 40:\n",
    "            return percent,self.name\n",
    "    \n",
    "    #toper of the class\n",
    "    def topper(self):\n",
    "        percent = ((self.marks/500)*100)\n",
    "        return percent\n",
    "    \n",
    "    #list of pass and failed students\n",
    "    def passorfail(self):\n",
    "        percent = ((self.marks/500)*100)\n",
    "        if percent < 40:\n",
    "            return (\"Fail\"),self.name\n",
    "        else:\n",
    "            return(\"pass\"),self.name\n",
    "     \n",
    "    \n",
    "student1 = sslc(\"pavan\",10,400)\n",
    "student2 =sslc(\"arjun\",11,50)\n",
    "student3 = sslc(\"arya\",12,453)\n",
    "student4 = sslc(\"param\",14,455)\n",
    "# print(student1.topper())\n",
    "students = [student1,student2,student3,student4]\n",
    "class_details = []\n",
    "top_score = 0\n",
    "failed_students_list = []\n",
    "passorfail_list = []\n",
    "\n",
    "class_details = [student.student_details() for student in students]\n",
    "\n",
    "# for student in students:\n",
    "#     class_details.append(student.student_details()) \n",
    "print(class_details)\n",
    "\n",
    "\n",
    "# for student in students:\n",
    "#     failed_students_list.append(student.failed_students())\n",
    "failed_students_list=[student.failed_students() for student in students]\n",
    "print(failed_students_list)\n",
    "\n",
    "\n",
    "\n",
    "for student in students:\n",
    "    if student.topper() > top_score:\n",
    "        top_score = student.topper()\n",
    "        name = student.name\n",
    "# top_score = [student.topper() for student in students]\n",
    "# name = student.name\n",
    "print(top_score,name)\n",
    "\n",
    "\n",
    "# for student in students:\n",
    "#     passorfail_list.append(student.passorfail())\n",
    "\n",
    "passorfail_list= [student.passorfail() for student in students]\n",
    "print(passorfail_list)\n",
    "    \n",
    "\n",
    "\n",
    "    \n",
    "    \n",
    "    \n",
    "    \n",
    "    \n",
    "    \n",
    "    \n",
    "#     print(student.student_details())\n",
    "#     print(student.toper())"
   ]
  },
  {
   "cell_type": "code",
   "execution_count": 1,
   "metadata": {},
   "outputs": [
    {
     "name": "stdout",
     "output_type": "stream",
     "text": [
      "40\n"
     ]
    }
   ],
   "source": [
    "l =[40,34,3,4,2,4]\n",
    "print(max(l))"
   ]
  },
  {
   "cell_type": "code",
   "execution_count": 32,
   "metadata": {},
   "outputs": [
    {
     "name": "stdout",
     "output_type": "stream",
     "text": [
      "(101, 'concepts', 'for|while')\n",
      "(102, 'basics', 'list comprehension')\n"
     ]
    }
   ],
   "source": [
    "# problem 2:\n",
    "#     course: in a every course there are multiple tutorials\n",
    "#     for course there is course name:, discription, category\n",
    "#     for every tutorial name , content, course  which it belongs\n",
    "\n",
    "    \n",
    "#     find all the tutorials of Course \"pyhton\"\n",
    "#     find all the turtorials of category \"programing\"\n",
    "\n",
    "class course:\n",
    "    def __init__(self,c_id,c_name,c_dis,c_category):\n",
    "        self.c_id = c_id\n",
    "        self.c_name = c_name\n",
    "        self.c_dis = c_dis\n",
    "        self.c_category = c_category\n",
    "        \n",
    "        \n",
    "class tutorial:\n",
    "    def __init__(self,t_id,t_name,t_content,course):\n",
    "        self.t_id = t_id\n",
    "        self.t_name = t_name\n",
    "        self.t_content = t_content\n",
    "        self.course = course\n",
    "        \n",
    "    def viewprofile(self):\n",
    "        return self.t_id,self.t_name, self.t_content\n",
    "        \n",
    "        \n",
    "    \n",
    "\n",
    "course1 = course(1,\"python\",\"python programing\",\"programming\")        \n",
    "course2 = course(2,\"java\",\"java programing\",\"programming\")        \n",
    "course3 = course(3,\"c\",\"c programing\",\"programming\")        \n",
    "course4 = course(4,\"deep learning\",\"machine programing\",\"machine learning\")\n",
    "course5 = course(5,\"sql\",\"database\",\"database\")\n",
    "\n",
    "tut1 = tutorial(101,\"concepts\",\"for|while\",course1)\n",
    "tut2 = tutorial(102,\"basics\",\"datatypes|loops\",course2)\n",
    "tut3 = tutorial(102,\"basics\",\"list comprehension\",course1)\n",
    "courses = [course1, course2, course3, course4,course5]\n",
    "tutorials = [tut1, tut2, tut3]\n",
    "for tut in tutorials:\n",
    "    if tut.course.c_name == \"python\":\n",
    "        print(tut.viewprofile())\n",
    "   \n",
    "    \n",
    "       \n",
    "    \n",
    "    "
   ]
  },
  {
   "cell_type": "code",
   "execution_count": 7,
   "metadata": {},
   "outputs": [
    {
     "name": "stdout",
     "output_type": "stream",
     "text": [
      "[<__main__.course object at 0x0000000F04A2FD88>, <__main__.course object at 0x0000000F04A14248>, <__main__.course object at 0x0000000F04A14508>, <__main__.course object at 0x0000000F04A145C8>, <__main__.course object at 0x0000000F04A14408>]\n"
     ]
    }
   ],
   "source": [
    "# problem 2:\n",
    "#     course: in a every course there are multiple tutorials\n",
    "#     for course there is course name:, discription, category\n",
    "#     for every tutorial name , content, course  which it belongs\n",
    "\n",
    "    \n",
    "#     find all the tutorials of Course \"pyhton\"\n",
    "#     find all the turtorials of category \"programing\"\n",
    "# Course:\n",
    "#   id\n",
    "#     course_name\n",
    "#     discription\n",
    "#     category\n",
    "    \n",
    "#     create_course\n",
    "#     update_course\n",
    "#     delete_course\n",
    "    \n",
    "# Tutorial:\n",
    "#     name\n",
    "#     content\n",
    "#     course_mapping\n",
    "       \n",
    "#     create_course\n",
    "#     update_course\n",
    "#     delete_course\n",
    "\n",
    "class course:\n",
    "    courses = []\n",
    "    def __init__(self,id,course_name,discription,category):\n",
    "        self.id = id\n",
    "        self.course_name = course_name\n",
    "        self.discription = discription\n",
    "        self.category = category\n",
    "        course.courses.append(self)\n",
    "   \n",
    "    \n",
    "    \n",
    "class tutorial:\n",
    "    def __init__(self,t_id,t_title,t_content,course):\n",
    "        self.t_id = t_id\n",
    "        self.t_title = t_title\n",
    "        self.t_content = t_content\n",
    "        self.course = course\n",
    "    def viewprofile(self):\n",
    "        return self.t_id,self.t_title,self.t_content, self.course\n",
    "course1 = course(1,\"python progam\",\"pyhton\",\"programming\")\n",
    "course2 = course(2,\"java progam\",\"java\",\"programming\")\n",
    "course3 = course(3,\"c progam\",\"c\",\"programming\")\n",
    "course4 = course(4,\"machine progam\",\"datsciene\",\"machinelearning\")\n",
    "course5 = course(5,\"c+ progam\",\"c+\",\"programming\")\n",
    "tut1 = tutorial(101,\"basics\",\"operators|datatypes|typecasting\",course1)\n",
    "tut2 = tutorial(102,\"basics\",\"for|while|typecasting\",course1)\n",
    "tut3 = tutorial(104,\"basics\",\"numpys|numpy|arrat\",course5)\n",
    "print(course.courses)\n",
    "\n",
    "# courses = [course1, course2, course3,course4,course5]\n",
    "# tutorials = [tut1,tut2,tut3]\n",
    "# for tut in tutorials:\n",
    "#     if tut1.course.course_name == \"pyhton program\":\n",
    "#         print(tut.veiwprofile())\n",
    "    \n",
    "    \n",
    "\n",
    "\n",
    "\n",
    "\n",
    "\n",
    "\n"
   ]
  },
  {
   "cell_type": "code",
   "execution_count": 5,
   "metadata": {},
   "outputs": [
    {
     "name": "stdout",
     "output_type": "stream",
     "text": [
      "('abc', 'abc@123', 'abc@gmail.com')\n",
      "8773933344\n"
     ]
    }
   ],
   "source": [
    "# username\n",
    "# password\n",
    "# email\n",
    "# contact_number\n",
    "\n",
    "# login\n",
    "# logout\n",
    "# register\n",
    "# view_profile\n",
    "# upadte_profile\n",
    "# forgot_password\n",
    "class user:\n",
    "    def __init__(self,username,password,email):\n",
    "        self.username = username\n",
    "        self.password = password\n",
    "        self.email = email\n",
    "    def add_contact(self,contact):\n",
    "        self.contact =  contact\n",
    "    def viewprofile(self):\n",
    "        return(self.username,self.password,self.email)\n",
    "    def login(self,username,password):\n",
    "        self.username = username\n",
    "        self.password =  password\n",
    "    \n",
    "    \n",
    "    \n",
    "user1 = user(\"abc\",\"abc@123\",\"abc@gmail.com\")\n",
    "user2 = user(\"pq\",\"kjdc@gmail.com\",\"dcdkjn@123gmail.com\")\n",
    "\n",
    "\n",
    "user1.add_contact(\"876876876\")\n",
    "user2.add_contact(\"8773933344\")\n",
    "print(user1.viewprofile())\n",
    "print(user2.contact)"
   ]
  },
  {
   "cell_type": "code",
   "execution_count": 18,
   "metadata": {},
   "outputs": [
    {
     "name": "stdout",
     "output_type": "stream",
     "text": [
      "(101, 'basics', 'operators|datatypes|typecasting')\n",
      "(102, 'basics', 'for|while|typecasting')\n"
     ]
    }
   ],
   "source": [
    "class course:\n",
    "    courses = []\n",
    "    count = 0\n",
    "    def __init__(self,id,course_name, discription, category):\n",
    "        self.id =   id\n",
    "        self.course_name = course_name\n",
    "        self.discription = discription \n",
    "        self.category  = category\n",
    "        course.courses.append(self)\n",
    "        course.count +=1\n",
    "\n",
    "class tutorial:        \n",
    "    def __init__(self,t_id,t_title,t_content,course):\n",
    "        self.t_id = t_id\n",
    "        self.t_title = t_title\n",
    "        self.t_content = t_content\n",
    "        self.course = course\n",
    "        \n",
    "    def viewprofile(self):\n",
    "        return self.t_id,self.t_title,self.t_content\n",
    "    \n",
    "    \n",
    "course1 = course(1,\"python program\",\"pyhton\",\"programming\")\n",
    "course2 = course(2,\"java program\",\"java\",\"programming\")\n",
    "course3 = course(3,\"c progam\",\"c\",\"programming\")\n",
    "course4 = course(4,\"machine progam\",\"datsciene\",\"machinelearning\")\n",
    "course5 = course(5,\"c+ progam\",\"c+\",\"programming\")\n",
    "tut1 = tutorial(101,\"basics\",\"operators|datatypes|typecasting\",course1)\n",
    "tut2 = tutorial(102,\"basics\",\"for|while|typecasting\",course1)\n",
    "tut3 = tutorial(104,\"basics\",\"numpys|numpy|arrat\",course4)\n",
    "# print(course.courses)\n",
    "# print(course.count)\n",
    "# print(tut1.count_tut)\n",
    "# courses = [course1, course2, course3,course4,course5]\n",
    "tutorials = [tut1,tut2,tut3]\n",
    "for tut in tutorials:\n",
    "    if tut.course.course_name == \"python program\":\n",
    "        print(tut.viewprofile())\n"
   ]
  },
  {
   "cell_type": "code",
   "execution_count": 48,
   "metadata": {},
   "outputs": [
    {
     "name": "stdout",
     "output_type": "stream",
     "text": [
      "(11, 'A', 20)\n",
      "None\n"
     ]
    }
   ],
   "source": [
    "class product:\n",
    "    def __init__(self, p_id,p_title, unitprice):\n",
    "        self.p_id = p_id\n",
    "        self.p_title= p_title\n",
    "        self.unitprice  = unitprice\n",
    "class Admin:\n",
    "    def add_product(self, p_id,p_title, unitprice):\n",
    "        p1 = (p_id,p_title, unitprice)\n",
    "        return p1\n",
    "\n",
    "\n",
    "class customer:\n",
    "    def __init__(self):\n",
    "        self.cart = []\n",
    "    def add_cart(self,product, quantity):\n",
    "        self.cart.append((product,quantity))\n",
    "       \n",
    "        \n",
    "admin = Admin()\n",
    "a = admin.add_product(11,\"A\",20)\n",
    "b = admin.add_product(11,\"B\",15)\n",
    "c = admin.add_product(11,\"C\",10)\n",
    "d = admin.add_product(11,\"D\",5)\n",
    "print(a)\n",
    "\n",
    "cust1 = customer()\n",
    "cust2 = customer ()\n",
    "s = cust1.add_cart(b,6)\n",
    "\n",
    "print(s)\n",
    "\n"
   ]
  },
  {
   "cell_type": "code",
   "execution_count": 29,
   "metadata": {},
   "outputs": [
    {
     "name": "stdout",
     "output_type": "stream",
     "text": [
      "['__add__', '__class__', '__contains__', '__delattr__', '__dir__', '__doc__', '__eq__', '__format__', '__ge__', '__getattribute__', '__getitem__', '__getnewargs__', '__gt__', '__hash__', '__init__', '__init_subclass__', '__iter__', '__le__', '__len__', '__lt__', '__mul__', '__ne__', '__new__', '__reduce__', '__reduce_ex__', '__repr__', '__rmul__', '__setattr__', '__sizeof__', '__str__', '__subclasshook__', 'count', 'index']\n"
     ]
    }
   ],
   "source": [
    "print(dir(tuple))"
   ]
  },
  {
   "cell_type": "code",
   "execution_count": 28,
   "metadata": {},
   "outputs": [
    {
     "ename": "TypeError",
     "evalue": "billing_amount() missing 1 required positional argument: 'cart'",
     "output_type": "error",
     "traceback": [
      "\u001b[1;31m---------------------------------------------------------------------------\u001b[0m",
      "\u001b[1;31mTypeError\u001b[0m                                 Traceback (most recent call last)",
      "\u001b[1;32m<ipython-input-28-cf85eaa84e6b>\u001b[0m in \u001b[0;36m<module>\u001b[1;34m\u001b[0m\n\u001b[0;32m     39\u001b[0m \u001b[1;33m\u001b[0m\u001b[0m\n\u001b[0;32m     40\u001b[0m \u001b[1;31m# print(a.__dict__)\u001b[0m\u001b[1;33m\u001b[0m\u001b[1;33m\u001b[0m\u001b[1;33m\u001b[0m\u001b[0m\n\u001b[1;32m---> 41\u001b[1;33m \u001b[0mprint\u001b[0m\u001b[1;33m(\u001b[0m\u001b[0mbilling\u001b[0m\u001b[1;33m.\u001b[0m\u001b[0mbilling_amount\u001b[0m\u001b[1;33m(\u001b[0m\u001b[1;33m)\u001b[0m\u001b[1;33m)\u001b[0m\u001b[1;33m\u001b[0m\u001b[1;33m\u001b[0m\u001b[0m\n\u001b[0m",
      "\u001b[1;31mTypeError\u001b[0m: billing_amount() missing 1 required positional argument: 'cart'"
     ]
    }
   ],
   "source": [
    "class product:\n",
    "    def __init__(self,id,title,unitprice):\n",
    "        self.id = id\n",
    "        self.title = title\n",
    "        self.unitprice = unitprice\n",
    "class Admin:\n",
    "    def add_product(self,id,title,unitprice):\n",
    "        p1 = product(id,title,unitprice)\n",
    "        return p1\n",
    "class customer:\n",
    "    def __init__(self):\n",
    "        self.cart = []\n",
    "    def add_cart(self,product,quantity):\n",
    "        self.cart.append((product,quantity))\n",
    "    def checkout():\n",
    "        pass\n",
    "class billing:\n",
    "    \n",
    "#     @classmethod\n",
    "#     def calculate(cls,cart):\n",
    " \n",
    "#         finalcart = {}\n",
    "    def billing_amount(cart):\n",
    "        total_amount = 0\n",
    "        for product, quantity in cart:\n",
    "            total_amount= quantity *product.unitprice\n",
    "            return total_amount\n",
    "    \n",
    "admin = Admin()\n",
    "a = admin.add_product(1001,\"A\",50)\n",
    "b = admin.add_product(1002,\"B\",44)\n",
    "c = admin.add_product(1003,\"C\",33)\n",
    "d = admin.add_product(1004,\"D\",31)\n",
    "cut1 = customer()\n",
    "cut2 = customer()\n",
    "cut1.add_cart(a,6)\n",
    "cut2.add_cart(b,6)\n",
    "cut1.add_cart(c,4)\n",
    "\n",
    "# print(a.__dict__)\n",
    "print(billing.billing_amount())"
   ]
  },
  {
   "cell_type": "code",
   "execution_count": 2,
   "metadata": {},
   "outputs": [
    {
     "name": "stdout",
     "output_type": "stream",
     "text": [
      "('pavan', 'Pavan@123', '8431110575')\n"
     ]
    }
   ],
   "source": [
    "class User:\n",
    "    def __init__(self, username , password):\n",
    "        self.username = username\n",
    "        self.password = password\n",
    "    def add_contact(self, contact):\n",
    "        self.contact = contact\n",
    "    \n",
    "    def view_profile(self):\n",
    "        return self.username, self.password, self.contact\n",
    "\n",
    "    \n",
    "user1 = User(\"pavan\", \"Pavan@123\")\n",
    "user1.add_contact(\"8431110575\")\n",
    "print(user1.view_profile())"
   ]
  },
  {
   "cell_type": "code",
   "execution_count": 39,
   "metadata": {},
   "outputs": [
    {
     "name": "stdout",
     "output_type": "stream",
     "text": [
      "50\n",
      "50\n",
      "70\n",
      "70\n"
     ]
    }
   ],
   "source": [
    "n = 5\n",
    "x = 0\n",
    "d =4\n",
    "l = [10,20,30,40,50]\n",
    "for i in l[x:d]:\n",
    "    add = (l[d//2]+l[(d//2)-1])\n",
    "    x +=1\n",
    "    d+=1\n",
    "    print(add)\n"
   ]
  },
  {
   "cell_type": "code",
   "execution_count": 56,
   "metadata": {},
   "outputs": [
    {
     "name": "stdout",
     "output_type": "stream",
     "text": [
      "70\n"
     ]
    }
   ],
   "source": [
    "n = 6\n",
    "x = 0\n",
    "d =4\n",
    "l = [10,20,30,40,50,60]\n",
    "count =0\n",
    "while count>= (n-d):\n",
    "    add = (l[d//2]+l[(d//2)-1])\n",
    "    d+=1\n",
    "    count +=1\n",
    "print(add)"
   ]
  },
  {
   "cell_type": "code",
   "execution_count": 80,
   "metadata": {},
   "outputs": [
    {
     "name": "stdout",
     "output_type": "stream",
     "text": [
      "HHHH                      HHHH\n",
      "HHHHHHHHHHHHHHHHHHHHHHHHHHHHHH\n",
      "HHHHHHHHHHHHHHHHHHHHHHHHHHHHHH\n"
     ]
    }
   ],
   "source": [
    "width = 30\n",
    "# height\n",
    "print(\"                      \".center(width,'H'))\n",
    "print(\"\".ljust(width,'H'))\n",
    "print(\"\".ljust(width,'H'))\n",
    "# print(\"\".ljust(height,'H'))"
   ]
  },
  {
   "cell_type": "code",
   "execution_count": null,
   "metadata": {},
   "outputs": [],
   "source": []
  },
  {
   "cell_type": "code",
   "execution_count": null,
   "metadata": {},
   "outputs": [],
   "source": []
  },
  {
   "cell_type": "code",
   "execution_count": 9,
   "metadata": {},
   "outputs": [
    {
     "name": "stdout",
     "output_type": "stream",
     "text": [
      "18\n",
      "5\n",
      "ddcd\n",
      "cdcs\n",
      "sscd\n",
      "\n",
      "\n"
     ]
    }
   ],
   "source": [
    "a = \"ddcdcdcsdaxxsscdcd\"\n",
    "d = 4\n",
    "print(len(a))\n",
    "l = 0\n",
    "count = 0\n",
    "if len(a)%d == 0:\n",
    "    c = len(a)//d\n",
    "else:\n",
    "    c = (len(a)//d)+1\n",
    "print(c)\n",
    "while count < c:\n",
    "    print(a[l:d])\n",
    "    l +=d\n",
    "    d+=d\n",
    "    count+=1\n",
    "\n"
   ]
  },
  {
   "cell_type": "code",
   "execution_count": 11,
   "metadata": {},
   "outputs": [
    {
     "name": "stdout",
     "output_type": "stream",
     "text": [
      "ddcd\n",
      "cdcs\n",
      "daxx\n",
      "sscd\n",
      "cd\n"
     ]
    }
   ],
   "source": [
    "import textwrap\n",
    "a = \"ddcdcdcsdaxxsscdcd\"\n",
    "print(textwrap.fill(a,4))"
   ]
  }
 ],
 "metadata": {
  "kernelspec": {
   "display_name": "Python 3",
   "language": "python",
   "name": "python3"
  },
  "language_info": {
   "codemirror_mode": {
    "name": "ipython",
    "version": 3
   },
   "file_extension": ".py",
   "mimetype": "text/x-python",
   "name": "python",
   "nbconvert_exporter": "python",
   "pygments_lexer": "ipython3",
   "version": "3.7.4"
  }
 },
 "nbformat": 4,
 "nbformat_minor": 2
}
