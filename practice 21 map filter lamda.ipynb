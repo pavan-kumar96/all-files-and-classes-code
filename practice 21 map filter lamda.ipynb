{
 "cells": [
  {
   "cell_type": "code",
   "execution_count": 2,
   "metadata": {},
   "outputs": [
    {
     "name": "stdout",
     "output_type": "stream",
     "text": [
      "[100, 400, 900, 1600]\n"
     ]
    }
   ],
   "source": [
    "# map  (fuc, iterators)\n",
    "def sqt(num1):\n",
    "    return num1**2\n",
    "l = [10,20,30,40]\n",
    "    \n",
    "m = map(sqt, l)\n",
    "print(list(m))"
   ]
  },
  {
   "cell_type": "code",
   "execution_count": 3,
   "metadata": {},
   "outputs": [
    {
     "name": "stdout",
     "output_type": "stream",
     "text": [
      "[42, 54, 66, 78]\n"
     ]
    }
   ],
   "source": [
    "def add(num,num1,num2):\n",
    "    return num+num1+num2\n",
    "l = [10,20,30,40]\n",
    "l1 = [11,12,13,14]\n",
    "l2 =[21,22,23,24]\n",
    "m =map(add,l,l1,l2)\n",
    "print(list(m))\n"
   ]
  },
  {
   "cell_type": "code",
   "execution_count": 4,
   "metadata": {},
   "outputs": [
    {
     "name": "stdout",
     "output_type": "stream",
     "text": [
      "[42, 54, 66, 78]\n"
     ]
    }
   ],
   "source": [
    "# using lamda\n",
    "l = [10,20,30,40]\n",
    "l1 = [11,12,13,14]\n",
    "l2 =[21,22,23,24]\n",
    "m = map(lambda num,num1,num2: num+num1+num2, l,l1,l2)\n",
    "print(list(m))"
   ]
  },
  {
   "cell_type": "code",
   "execution_count": null,
   "metadata": {},
   "outputs": [],
   "source": [
    "# In map function no. of elements in input must be equal to no. elements in ouput\n",
    "# in order to filter we use the filter function"
   ]
  },
  {
   "cell_type": "code",
   "execution_count": 9,
   "metadata": {},
   "outputs": [
    {
     "name": "stdout",
     "output_type": "stream",
     "text": [
      "[20, 30, 40]\n"
     ]
    }
   ],
   "source": [
    "def even(num):\n",
    "    if num% 2 ==0 :\n",
    "        return True\n",
    "l = [11,20,30,40]\n",
    "m = filter(even,l)\n",
    "print(list(m))"
   ]
  },
  {
   "cell_type": "code",
   "execution_count": 13,
   "metadata": {},
   "outputs": [
    {
     "name": "stdout",
     "output_type": "stream",
     "text": [
      "{50: 10, 40: 12, 30: 30, 20: 40, 10: 50}\n"
     ]
    }
   ],
   "source": [
    "d = {50:10,40:12,30:30,20:40,10:50}\n",
    "print(dict(sorted(d.items(),key = lambda x:x[1])))"
   ]
  },
  {
   "cell_type": "code",
   "execution_count": 39,
   "metadata": {},
   "outputs": [
    {
     "ename": "IndexError",
     "evalue": "list index out of range",
     "output_type": "error",
     "traceback": [
      "\u001b[1;31m---------------------------------------------------------------------------\u001b[0m",
      "\u001b[1;31mIndexError\u001b[0m                                Traceback (most recent call last)",
      "\u001b[1;32m<ipython-input-39-5e39c2e426c5>\u001b[0m in \u001b[0;36m<module>\u001b[1;34m\u001b[0m\n\u001b[0;32m     11\u001b[0m         \u001b[0mk\u001b[0m\u001b[1;33m+=\u001b[0m\u001b[1;36m1\u001b[0m\u001b[1;33m\u001b[0m\u001b[1;33m\u001b[0m\u001b[0m\n\u001b[0;32m     12\u001b[0m     \u001b[1;32mreturn\u001b[0m \u001b[0mromanumber\u001b[0m\u001b[1;33m\u001b[0m\u001b[1;33m\u001b[0m\u001b[0m\n\u001b[1;32m---> 13\u001b[1;33m \u001b[0mroman_num\u001b[0m\u001b[1;33m(\u001b[0m\u001b[1;36m1210\u001b[0m\u001b[1;33m)\u001b[0m\u001b[1;33m\u001b[0m\u001b[1;33m\u001b[0m\u001b[0m\n\u001b[0m\u001b[0;32m     14\u001b[0m \u001b[1;33m\u001b[0m\u001b[0m\n\u001b[0;32m     15\u001b[0m \u001b[1;33m\u001b[0m\u001b[0m\n",
      "\u001b[1;32m<ipython-input-39-5e39c2e426c5>\u001b[0m in \u001b[0;36mroman_num\u001b[1;34m(s)\u001b[0m\n\u001b[0;32m      6\u001b[0m     \u001b[0mk\u001b[0m \u001b[1;33m=\u001b[0m \u001b[1;36m0\u001b[0m\u001b[1;33m\u001b[0m\u001b[1;33m\u001b[0m\u001b[0m\n\u001b[0;32m      7\u001b[0m     \u001b[1;32mwhile\u001b[0m \u001b[0ms\u001b[0m\u001b[1;33m>\u001b[0m \u001b[1;36m0\u001b[0m\u001b[1;33m:\u001b[0m\u001b[1;33m\u001b[0m\u001b[1;33m\u001b[0m\u001b[0m\n\u001b[1;32m----> 8\u001b[1;33m         \u001b[1;32mfor\u001b[0m \u001b[0m_\u001b[0m \u001b[1;32min\u001b[0m \u001b[0mrange\u001b[0m\u001b[1;33m(\u001b[0m\u001b[0ms\u001b[0m\u001b[1;33m//\u001b[0m\u001b[0mdigit\u001b[0m\u001b[1;33m[\u001b[0m\u001b[0mk\u001b[0m\u001b[1;33m]\u001b[0m\u001b[1;33m)\u001b[0m\u001b[1;33m:\u001b[0m\u001b[1;33m\u001b[0m\u001b[1;33m\u001b[0m\u001b[0m\n\u001b[0m\u001b[0;32m      9\u001b[0m             \u001b[0mromanumber\u001b[0m \u001b[1;33m+=\u001b[0m \u001b[0mroman\u001b[0m\u001b[1;33m[\u001b[0m\u001b[0mk\u001b[0m\u001b[1;33m]\u001b[0m\u001b[1;33m\u001b[0m\u001b[1;33m\u001b[0m\u001b[0m\n\u001b[0;32m     10\u001b[0m             \u001b[0mk\u001b[0m \u001b[1;33m-=\u001b[0m \u001b[0mdigit\u001b[0m\u001b[1;33m[\u001b[0m\u001b[0mk\u001b[0m\u001b[1;33m]\u001b[0m\u001b[1;33m\u001b[0m\u001b[1;33m\u001b[0m\u001b[0m\n",
      "\u001b[1;31mIndexError\u001b[0m: list index out of range"
     ]
    }
   ],
   "source": [
    "def roman_num(s):\n",
    "    s= int(s)\n",
    "    digit = [1000,900,500,400,100,90,50,40,10,9,5,4,1]\n",
    "    roman = [\"M\",\"CM\",\"D\",\"CD\",\"C\",\"XD\",\"L\",\"XL\",\"X\",\"IX\",\"V\",\"IV\",\"I\"]\n",
    "    romanumber = \"\"\n",
    "    k = 0\n",
    "    while s> 0:\n",
    "        for _ in range(s//digit[k]):\n",
    "            romanumber += roman[k]\n",
    "            k -= digit[k]\n",
    "        k+=1\n",
    "    return romanumber\n",
    "roman_num(1210)\n",
    "        \n",
    "        "
   ]
  }
 ],
 "metadata": {
  "kernelspec": {
   "display_name": "Python 3",
   "language": "python",
   "name": "python3"
  },
  "language_info": {
   "codemirror_mode": {
    "name": "ipython",
    "version": 3
   },
   "file_extension": ".py",
   "mimetype": "text/x-python",
   "name": "python",
   "nbconvert_exporter": "python",
   "pygments_lexer": "ipython3",
   "version": "3.7.4"
  }
 },
 "nbformat": 4,
 "nbformat_minor": 2
}
