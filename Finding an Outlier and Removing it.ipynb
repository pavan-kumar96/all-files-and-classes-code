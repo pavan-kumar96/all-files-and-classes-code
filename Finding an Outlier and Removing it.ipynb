{
 "cells": [
  {
   "cell_type": "markdown",
   "metadata": {},
   "source": [
    "#### What is a outlier?\n",
    "Outlier is a data point which is distinct from the all other observations. A data point that lies outside the overall distribution of the dataset"
   ]
  },
  {
   "cell_type": "code",
   "execution_count": 1,
   "metadata": {},
   "outputs": [],
   "source": [
    "import numpy as np\n",
    "import matplotlib.pyplot as plt\n",
    "%matplotlib inline"
   ]
  },
  {
   "cell_type": "markdown",
   "metadata": {},
   "source": [
    "#### What is the criteria for identifying the outlier?\n",
    "\n",
    "1. Data file that falls outside 1.5 times of an interquatile range above the 3rd Quanrtile and below 1st quartile\n",
    "2. Data point that falls outside 3 Standard deviation and we can use Z-score . if the Z-score falls outside the 2 Standard deviation\n"
   ]
  },
  {
   "cell_type": "markdown",
   "metadata": {},
   "source": [
    "#### What is the  reason for the existence of the outlier in the dataset?\n",
    "1. Varailbility in the data\n",
    "2. Experimental measurement error"
   ]
  },
  {
   "cell_type": "markdown",
   "metadata": {},
   "source": [
    "#### What are the impacts of having the outlier in the data?\n",
    "1. It causes the varies problems during the statistical analysis\n",
    "2. It may cause significant impact on the mean and standard deviation and total varience "
   ]
  },
  {
   "cell_type": "markdown",
   "metadata": {},
   "source": [
    "#### Various ways for finding the outlier?\n",
    "1. Using the scatter plots\n",
    "2. Using the box plots\n",
    "3. Using the Z- score\n",
    "4. Using the IQR interquartile range"
   ]
  },
  {
   "cell_type": "code",
   "execution_count": 5,
   "metadata": {},
   "outputs": [],
   "source": [
    "dataset= [11,10,12,14,12,15,14,13,15,102,12,14,17,19,107, 10,13,12,14,12,108,12,11,14,13,15,10,15,12,10,14,13,15,10]"
   ]
  },
  {
   "cell_type": "markdown",
   "metadata": {},
   "source": [
    "### Detecting the Outlier using the Z-score"
   ]
  },
  {
   "cell_type": "markdown",
   "metadata": {},
   "source": [
    "#### Using the Z-score\n",
    "z = (observation- mean)/ Standard deviation\n",
    "\n",
    "z = (X-m)/standard deviation"
   ]
  },
  {
   "cell_type": "code",
   "execution_count": 6,
   "metadata": {},
   "outputs": [],
   "source": [
    "outliers = []\n",
    "def detect_outliers(data):\n",
    "    thresold = 3\n",
    "    mean = np.mean(data)\n",
    "    std = np.std(data)\n",
    "    \n",
    "    for i in data:\n",
    "        z = (i-mean)/std\n",
    "        if thresold < z:\n",
    "            outliers.append(i)\n",
    "    return outliers"
   ]
  },
  {
   "cell_type": "code",
   "execution_count": 7,
   "metadata": {},
   "outputs": [
    {
     "data": {
      "text/plain": [
       "[102, 107, 108]"
      ]
     },
     "execution_count": 7,
     "metadata": {},
     "output_type": "execute_result"
    }
   ],
   "source": [
    "detect_outliers(dataset)"
   ]
  },
  {
   "cell_type": "markdown",
   "metadata": {},
   "source": [
    "# Interquartile Range"
   ]
  },
  {
   "cell_type": "markdown",
   "metadata": {},
   "source": [
    "75% - 25% values in the dataset"
   ]
  },
  {
   "cell_type": "markdown",
   "metadata": {},
   "source": [
    "1. Arrange in the data in the increasing order\n",
    "2. Calculate the 1st and 3rd Quartile\n",
    "3. Find the interquartile (q3-q1)\n",
    "4. Find the lower bond Q1*1.5\n",
    "5. Find the upper bond Q3*1.5"
   ]
  },
  {
   "cell_type": "code",
   "execution_count": 8,
   "metadata": {},
   "outputs": [],
   "source": [
    "data = sorted(dataset)"
   ]
  },
  {
   "cell_type": "code",
   "execution_count": 16,
   "metadata": {},
   "outputs": [],
   "source": [
    "quar1, quar3 =  np.percentile(dataset, [25,75])"
   ]
  },
  {
   "cell_type": "code",
   "execution_count": 17,
   "metadata": {},
   "outputs": [],
   "source": [
    "# Finding the IQR\n",
    "iqr  = quar3 - quar1"
   ]
  },
  {
   "cell_type": "code",
   "execution_count": 19,
   "metadata": {},
   "outputs": [],
   "source": [
    "# Finding the lower and higer bound \n",
    "higher = quar3+(1.5*iqr)\n",
    "lower = quar1-(1.5*iqr)"
   ]
  },
  {
   "cell_type": "code",
   "execution_count": 20,
   "metadata": {},
   "outputs": [
    {
     "name": "stdout",
     "output_type": "stream",
     "text": [
      "7.5 19.5\n"
     ]
    }
   ],
   "source": [
    "print(lower, higher)"
   ]
  },
  {
   "cell_type": "code",
   "execution_count": 21,
   "metadata": {
    "scrolled": true
   },
   "outputs": [
    {
     "data": {
      "text/plain": [
       "{'whiskers': [<matplotlib.lines.Line2D at 0x15f8cc3208>,\n",
       "  <matplotlib.lines.Line2D at 0x15f8cc0bc8>],\n",
       " 'caps': [<matplotlib.lines.Line2D at 0x15f8cc3c48>,\n",
       "  <matplotlib.lines.Line2D at 0x15f8ccbdc8>],\n",
       " 'boxes': [<matplotlib.lines.Line2D at 0x15f8cc07c8>],\n",
       " 'medians': [<matplotlib.lines.Line2D at 0x15f8ccbac8>],\n",
       " 'fliers': [<matplotlib.lines.Line2D at 0x15f82debc8>],\n",
       " 'means': []}"
      ]
     },
     "execution_count": 21,
     "metadata": {},
     "output_type": "execute_result"
    },
    {
     "data": {
      "image/png": "[encoded data removed]",
      "text/plain": [
       "<Figure size 432x288 with 1 Axes>"
      ]
     },
     "metadata": {
      "needs_background": "light"
     },
     "output_type": "display_data"
    }
   ],
   "source": [
    "plt.boxplot(data)"
   ]
  },
  {
   "cell_type": "code",
   "execution_count": 25,
   "metadata": {},
   "outputs": [],
   "source": [
    "# Removing the outliers using the pandas\n",
    "# For that import pandas library\n",
    "import pandas as pd"
   ]
  },
  {
   "cell_type": "code",
   "execution_count": 28,
   "metadata": {},
   "outputs": [],
   "source": [
    "data = pd.Series(data)"
   ]
  },
  {
   "cell_type": "code",
   "execution_count": 32,
   "metadata": {},
   "outputs": [
    {
     "data": {
      "text/plain": [
       "array([ 10,  10,  10,  10,  10,  11,  11,  12,  12,  12,  12,  12,  12,\n",
       "        12,  13,  13,  13,  13,  14,  14,  14,  14,  14,  14,  15,  15,\n",
       "        15,  15,  15,  17,  19, 102, 107, 108], dtype=int64)"
      ]
     },
     "execution_count": 32,
     "metadata": {},
     "output_type": "execute_result"
    }
   ],
   "source": []
  },
  {
   "cell_type": "code",
   "execution_count": 35,
   "metadata": {},
   "outputs": [],
   "source": [
    "data_new = data.loc[(lower < data.values) & (higher > data.values)]"
   ]
  },
  {
   "cell_type": "code",
   "execution_count": null,
   "metadata": {},
   "outputs": [],
   "source": []
  }
 ],
 "metadata": {
  "kernelspec": {
   "display_name": "Python 3",
   "language": "python",
   "name": "python3"
  },
  "language_info": {
   "codemirror_mode": {
    "name": "ipython",
    "version": 3
   },
   "file_extension": ".py",
   "mimetype": "text/x-python",
   "name": "python",
   "nbconvert_exporter": "python",
   "pygments_lexer": "ipython3",
   "version": "3.7.4"
  }
 },
 "nbformat": 4,
 "nbformat_minor": 2
}
