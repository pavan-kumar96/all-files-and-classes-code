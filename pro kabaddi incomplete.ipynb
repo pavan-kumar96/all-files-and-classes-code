{
 "cells": [
  {
   "cell_type": "code",
   "execution_count": 1,
   "metadata": {},
   "outputs": [],
   "source": [
    "import pandas as pd"
   ]
  },
  {
   "cell_type": "code",
   "execution_count": 2,
   "metadata": {},
   "outputs": [
    {
     "name": "stderr",
     "output_type": "stream",
     "text": [
      "C:\\ProgramData\\Anaconda3\\lib\\site-packages\\IPython\\core\\interactiveshell.py:3058: DtypeWarning: Columns (3,10,29,32,33,38,39) have mixed types. Specify dtype option on import or set low_memory=False.\n",
      "  interactivity=interactivity, compiler=compiler, result=result)\n"
     ]
    }
   ],
   "source": [
    "data = pd.read_csv('https://raw.githubusercontent.com/ranganadhkodali/Pro-Kabadi-season-1-7-Stats/master/DS_events.csv')\n"
   ]
  },
  {
   "cell_type": "code",
   "execution_count": 3,
   "metadata": {},
   "outputs": [],
   "source": [
    "new = data.copy()"
   ]
  },
  {
   "cell_type": "code",
   "execution_count": 6,
   "metadata": {},
   "outputs": [
    {
     "data": {
      "text/html": [
       "<div>\n",
       "<style scoped>\n",
       "    .dataframe tbody tr th:only-of-type {\n",
       "        vertical-align: middle;\n",
       "    }\n",
       "\n",
       "    .dataframe tbody tr th {\n",
       "        vertical-align: top;\n",
       "    }\n",
       "\n",
       "    .dataframe thead th {\n",
       "        text-align: right;\n",
       "    }\n",
       "</style>\n",
       "<table border=\"1\" class=\"dataframe\">\n",
       "  <thead>\n",
       "    <tr style=\"text-align: right;\">\n",
       "      <th></th>\n",
       "      <th>Unnamed: 0</th>\n",
       "      <th>clock</th>\n",
       "      <th>defender_id</th>\n",
       "      <th>defenders</th>\n",
       "      <th>defending_all_out_points</th>\n",
       "      <th>defending_bonus_points</th>\n",
       "      <th>defending_capture_points</th>\n",
       "      <th>defending_points</th>\n",
       "      <th>defending_team_id</th>\n",
       "      <th>defending_technical_points</th>\n",
       "      <th>...</th>\n",
       "      <th>review.reason.id</th>\n",
       "      <th>review.reason.reason_value</th>\n",
       "      <th>review.review_taken</th>\n",
       "      <th>review.team_id</th>\n",
       "      <th>score</th>\n",
       "      <th>status_id</th>\n",
       "      <th>substituted_by</th>\n",
       "      <th>super_raid</th>\n",
       "      <th>super_tackle</th>\n",
       "      <th>team_id</th>\n",
       "    </tr>\n",
       "  </thead>\n",
       "  <tbody>\n",
       "    <tr>\n",
       "      <td>33709</td>\n",
       "      <td>27</td>\n",
       "      <td>09:03</td>\n",
       "      <td>NaN</td>\n",
       "      <td>NaN</td>\n",
       "      <td>NaN</td>\n",
       "      <td>NaN</td>\n",
       "      <td>NaN</td>\n",
       "      <td>NaN</td>\n",
       "      <td>NaN</td>\n",
       "      <td>NaN</td>\n",
       "      <td>...</td>\n",
       "      <td>NaN</td>\n",
       "      <td>NaN</td>\n",
       "      <td>NaN</td>\n",
       "      <td>NaN</td>\n",
       "      <td>NaN</td>\n",
       "      <td>0.0</td>\n",
       "      <td>NaN</td>\n",
       "      <td>NaN</td>\n",
       "      <td>NaN</td>\n",
       "      <td>0.0</td>\n",
       "    </tr>\n",
       "    <tr>\n",
       "      <td>41361</td>\n",
       "      <td>31</td>\n",
       "      <td>07:41</td>\n",
       "      <td>NaN</td>\n",
       "      <td>NaN</td>\n",
       "      <td>NaN</td>\n",
       "      <td>NaN</td>\n",
       "      <td>NaN</td>\n",
       "      <td>0.0</td>\n",
       "      <td>8.0</td>\n",
       "      <td>NaN</td>\n",
       "      <td>...</td>\n",
       "      <td>NaN</td>\n",
       "      <td>NaN</td>\n",
       "      <td>NaN</td>\n",
       "      <td>NaN</td>\n",
       "      <td>[9, 20]</td>\n",
       "      <td>0.0</td>\n",
       "      <td>NaN</td>\n",
       "      <td>NaN</td>\n",
       "      <td>NaN</td>\n",
       "      <td>NaN</td>\n",
       "    </tr>\n",
       "  </tbody>\n",
       "</table>\n",
       "<p>2 rows × 41 columns</p>\n",
       "</div>"
      ],
      "text/plain": [
       "       Unnamed: 0  clock  defender_id defenders  defending_all_out_points  \\\n",
       "33709          27  09:03          NaN       NaN                       NaN   \n",
       "41361          31  07:41          NaN       NaN                       NaN   \n",
       "\n",
       "       defending_bonus_points  defending_capture_points  defending_points  \\\n",
       "33709                     NaN                       NaN               NaN   \n",
       "41361                     NaN                       NaN               0.0   \n",
       "\n",
       "       defending_team_id  defending_technical_points  ... review.reason.id  \\\n",
       "33709                NaN                         NaN  ...              NaN   \n",
       "41361                8.0                         NaN  ...              NaN   \n",
       "\n",
       "      review.reason.reason_value  review.review_taken  review.team_id  \\\n",
       "33709                        NaN                  NaN             NaN   \n",
       "41361                        NaN                  NaN             NaN   \n",
       "\n",
       "         score  status_id  substituted_by  super_raid  super_tackle  team_id  \n",
       "33709      NaN        0.0             NaN         NaN           NaN      0.0  \n",
       "41361  [9, 20]        0.0             NaN         NaN           NaN      NaN  \n",
       "\n",
       "[2 rows x 41 columns]"
      ]
     },
     "execution_count": 6,
     "metadata": {},
     "output_type": "execute_result"
    }
   ],
   "source": [
    "data.sample(2)"
   ]
  },
  {
   "cell_type": "code",
   "execution_count": 5,
   "metadata": {},
   "outputs": [
    {
     "data": {
      "text/plain": [
       "Unnamed: 0                          0\n",
       "clock                               0\n",
       "defender_id                     52513\n",
       "defenders                       59401\n",
       "defending_all_out_points        46769\n",
       "defending_bonus_points          46769\n",
       "defending_capture_points        46769\n",
       "defending_points                 8253\n",
       "defending_team_id                8253\n",
       "defending_technical_points      46769\n",
       "do_or_die                       46271\n",
       "event                               0\n",
       "event_id                            0\n",
       "event_no                            0\n",
       "event_text                          0\n",
       "match_id                            0\n",
       "player_id                       61127\n",
       "raid_all_out_points             46769\n",
       "raid_bonus_points               46769\n",
       "raid_points                      8253\n",
       "raid_technical_points           46769\n",
       "raid_touch_points               46769\n",
       "raider_bonus                    66070\n",
       "raider_id                        8253\n",
       "raiding_team_id                  8253\n",
       "reason                          65646\n",
       "reason_id                       66344\n",
       "review.outcome                  66568\n",
       "review.outcome.id               66125\n",
       "review.outcome.outcome_value    66125\n",
       "review.reason                   66568\n",
       "review.reason.id                66125\n",
       "review.reason.reason_value      66125\n",
       "review.review_taken             46769\n",
       "review.team_id                  46769\n",
       "score                            7335\n",
       "status_id                       21456\n",
       "substituted_by                  61835\n",
       "super_raid                      46769\n",
       "super_tackle                    46769\n",
       "team_id                         58318\n",
       "dtype: int64"
      ]
     },
     "execution_count": 5,
     "metadata": {},
     "output_type": "execute_result"
    }
   ],
   "source": [
    "data.isna().sum()"
   ]
  },
  {
   "cell_type": "code",
   "execution_count": null,
   "metadata": {},
   "outputs": [],
   "source": []
  }
 ],
 "metadata": {
  "kernelspec": {
   "display_name": "Python 3",
   "language": "python",
   "name": "python3"
  },
  "language_info": {
   "codemirror_mode": {
    "name": "ipython",
    "version": 3
   },
   "file_extension": ".py",
   "mimetype": "text/x-python",
   "name": "python",
   "nbconvert_exporter": "python",
   "pygments_lexer": "ipython3",
   "version": "3.7.4"
  }
 },
 "nbformat": 4,
 "nbformat_minor": 2
}
